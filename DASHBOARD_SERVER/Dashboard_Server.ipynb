{
 "cells": [
  {
   "cell_type": "code",
   "execution_count": 1,
   "id": "259b73e4",
   "metadata": {},
   "outputs": [
    {
     "name": "stderr",
     "output_type": "stream",
     "text": [
      "C:\\Users\\khalid\\AppData\\Local\\Temp\\ipykernel_1848\\1338791165.py:10: UserWarning: \n",
      "The dash_html_components package is deprecated. Please replace\n",
      "`import dash_html_components as html` with `from dash import html`\n",
      "  import dash_html_components as html\n",
      "C:\\Users\\khalid\\AppData\\Local\\Temp\\ipykernel_1848\\1338791165.py:11: UserWarning: \n",
      "The dash_core_components package is deprecated. Please replace\n",
      "`import dash_core_components as dcc` with `from dash import dcc`\n",
      "  import dash_core_components as dcc\n"
     ]
    }
   ],
   "source": [
    "import snscrape.modules.twitter as sntwitter\n",
    "import pandas as pd\n",
    "import numpy as np\n",
    "from tensorflow.keras.preprocessing.sequence import pad_sequences\n",
    "import tensorflow as tf\n",
    "import pickle\n",
    "from pickle import load\n",
    "import plotly.express as px\n",
    "from jupyter_dash import JupyterDash\n",
    "import dash_html_components as html\n",
    "import dash_core_components as dcc\n",
    "import dash\n",
    "from dash.dependencies import Input, Output\n",
    "from wordcloud import WordCloud\n",
    "import matplotlib.pyplot as plt\n",
    "import plotly.graph_objects as go\n",
    "import pandas as pd\n",
    "import plotly.express as px"
   ]
  },
  {
   "cell_type": "code",
   "execution_count": null,
   "id": "3d899078",
   "metadata": {},
   "outputs": [],
   "source": [
    "#Enter the username of the user you want to anaylze\n",
    "Twitterusername01 = \"elonmusk\""
   ]
  },
  {
   "cell_type": "code",
   "execution_count": 2,
   "id": "cb809ce2",
   "metadata": {},
   "outputs": [],
   "source": [
    "# Created a list to append all tweet attributes(data)\n",
    "attributes_container = []\n",
    "# Using TwitterSearchScraper to scrape data and append tweets to list\n",
    "for i,tweet in enumerate(sntwitter.TwitterSearchScraper(('from:'+Twitterusername01)).get_items()):\n",
    "    if i>=5000:\n",
    "        break\n",
    "    attributes_container.append([tweet.user,tweet.date, tweet.likeCount, tweet.content])\n",
    "\n",
    "# Creating a dataframe from the tweets list above \n",
    "tweets_df = pd.DataFrame(attributes_container, columns=[\"User\",\"Date_Created\", \"Number_of_Likes\", \"Tweets\"])"
   ]
  },
  {
   "cell_type": "code",
   "execution_count": 3,
   "id": "80b8ae9e",
   "metadata": {},
   "outputs": [
    {
     "data": {
      "text/plain": [
       "<bound method NDFrame.describe of                             User              Date_Created  Number_of_Likes  \\\n",
       "0   https://twitter.com/S0laire0 2022-12-05 18:22:56+00:00                0   \n",
       "1   https://twitter.com/S0laire0 2022-12-05 15:38:59+00:00                0   \n",
       "2   https://twitter.com/S0laire0 2022-12-05 15:35:41+00:00                0   \n",
       "3   https://twitter.com/S0laire0 2022-12-05 12:44:11+00:00                0   \n",
       "4   https://twitter.com/S0laire0 2022-12-05 03:39:35+00:00                0   \n",
       "..                           ...                       ...              ...   \n",
       "71  https://twitter.com/S0laire0 2022-10-30 11:04:40+00:00                2   \n",
       "72  https://twitter.com/S0laire0 2022-10-30 02:24:14+00:00                0   \n",
       "73  https://twitter.com/S0laire0 2022-10-29 13:56:32+00:00                0   \n",
       "74  https://twitter.com/S0laire0 2022-10-29 01:57:14+00:00                0   \n",
       "75  https://twitter.com/S0laire0 2022-10-29 01:56:23+00:00                0   \n",
       "\n",
       "                                               Tweets  \n",
       "0          Let the game begin https://t.co/whtlA9hwPd  \n",
       "1        Souls games players: https://t.co/2uR07dTGJH  \n",
       "2                                    @TeosGame Doom 2  \n",
       "3      @LeZeldaa God of war 1 https://t.co/DnhNmX9Vaw  \n",
       "4   @HabisMazin The journey begins NOW? I THOUGHT ...  \n",
       "..                                                ...  \n",
       "71      خل نخلي هذا اول تويته https://t.co/jZgTnMSYwP  \n",
       "72                                   @7lebMoz Anatomy  \n",
       "73                 @doppyisfree شكلك ما تلعبين فل تيم  \n",
       "74        @doppyisfree هارد ستك بلات دي بي اس بالخدمه  \n",
       "75   @doppyisfree وصلت الايلو هيل والظاهر بترك اللعبه  \n",
       "\n",
       "[76 rows x 4 columns]>"
      ]
     },
     "execution_count": 3,
     "metadata": {},
     "output_type": "execute_result"
    }
   ],
   "source": [
    "tweets_df.describe"
   ]
  },
  {
   "cell_type": "code",
   "execution_count": 4,
   "id": "a652725f",
   "metadata": {},
   "outputs": [
    {
     "data": {
      "text/plain": [
       "0    2022-12-05 18:22:56+00:00\n",
       "1    2022-12-05 15:38:59+00:00\n",
       "2    2022-12-05 15:35:41+00:00\n",
       "3    2022-12-05 12:44:11+00:00\n",
       "4    2022-12-05 03:39:35+00:00\n",
       "                ...           \n",
       "71   2022-10-30 11:04:40+00:00\n",
       "72   2022-10-30 02:24:14+00:00\n",
       "73   2022-10-29 13:56:32+00:00\n",
       "74   2022-10-29 01:57:14+00:00\n",
       "75   2022-10-29 01:56:23+00:00\n",
       "Name: Date_Created, Length: 76, dtype: datetime64[ns, UTC]"
      ]
     },
     "execution_count": 4,
     "metadata": {},
     "output_type": "execute_result"
    }
   ],
   "source": [
    "a=pd.to_datetime(tweets_df['Date_Created'])\n",
    "a"
   ]
  },
  {
   "cell_type": "code",
   "execution_count": 5,
   "id": "11b7d77c",
   "metadata": {},
   "outputs": [
    {
     "data": {
      "text/html": [
       "<div>\n",
       "<style scoped>\n",
       "    .dataframe tbody tr th:only-of-type {\n",
       "        vertical-align: middle;\n",
       "    }\n",
       "\n",
       "    .dataframe tbody tr th {\n",
       "        vertical-align: top;\n",
       "    }\n",
       "\n",
       "    .dataframe thead th {\n",
       "        text-align: right;\n",
       "    }\n",
       "</style>\n",
       "<table border=\"1\" class=\"dataframe\">\n",
       "  <thead>\n",
       "    <tr style=\"text-align: right;\">\n",
       "      <th></th>\n",
       "      <th>User</th>\n",
       "      <th>Date_Created</th>\n",
       "      <th>Number_of_Likes</th>\n",
       "      <th>Tweets</th>\n",
       "    </tr>\n",
       "  </thead>\n",
       "  <tbody>\n",
       "    <tr>\n",
       "      <th>0</th>\n",
       "      <td>https://twitter.com/S0laire0</td>\n",
       "      <td>2022-12-05 18:22:56+00:00</td>\n",
       "      <td>0</td>\n",
       "      <td>Let the game begin https://t.co/whtlA9hwPd</td>\n",
       "    </tr>\n",
       "    <tr>\n",
       "      <th>1</th>\n",
       "      <td>https://twitter.com/S0laire0</td>\n",
       "      <td>2022-12-05 15:38:59+00:00</td>\n",
       "      <td>0</td>\n",
       "      <td>Souls games players: https://t.co/2uR07dTGJH</td>\n",
       "    </tr>\n",
       "    <tr>\n",
       "      <th>2</th>\n",
       "      <td>https://twitter.com/S0laire0</td>\n",
       "      <td>2022-12-05 15:35:41+00:00</td>\n",
       "      <td>0</td>\n",
       "      <td>@TeosGame Doom 2</td>\n",
       "    </tr>\n",
       "    <tr>\n",
       "      <th>3</th>\n",
       "      <td>https://twitter.com/S0laire0</td>\n",
       "      <td>2022-12-05 12:44:11+00:00</td>\n",
       "      <td>0</td>\n",
       "      <td>@LeZeldaa God of war 1 https://t.co/DnhNmX9Vaw</td>\n",
       "    </tr>\n",
       "    <tr>\n",
       "      <th>4</th>\n",
       "      <td>https://twitter.com/S0laire0</td>\n",
       "      <td>2022-12-05 03:39:35+00:00</td>\n",
       "      <td>0</td>\n",
       "      <td>@HabisMazin The journey begins NOW? I THOUGHT ...</td>\n",
       "    </tr>\n",
       "    <tr>\n",
       "      <th>...</th>\n",
       "      <td>...</td>\n",
       "      <td>...</td>\n",
       "      <td>...</td>\n",
       "      <td>...</td>\n",
       "    </tr>\n",
       "    <tr>\n",
       "      <th>71</th>\n",
       "      <td>https://twitter.com/S0laire0</td>\n",
       "      <td>2022-10-30 11:04:40+00:00</td>\n",
       "      <td>2</td>\n",
       "      <td>خل نخلي هذا اول تويته https://t.co/jZgTnMSYwP</td>\n",
       "    </tr>\n",
       "    <tr>\n",
       "      <th>72</th>\n",
       "      <td>https://twitter.com/S0laire0</td>\n",
       "      <td>2022-10-30 02:24:14+00:00</td>\n",
       "      <td>0</td>\n",
       "      <td>@7lebMoz Anatomy</td>\n",
       "    </tr>\n",
       "    <tr>\n",
       "      <th>73</th>\n",
       "      <td>https://twitter.com/S0laire0</td>\n",
       "      <td>2022-10-29 13:56:32+00:00</td>\n",
       "      <td>0</td>\n",
       "      <td>@doppyisfree شكلك ما تلعبين فل تيم</td>\n",
       "    </tr>\n",
       "    <tr>\n",
       "      <th>74</th>\n",
       "      <td>https://twitter.com/S0laire0</td>\n",
       "      <td>2022-10-29 01:57:14+00:00</td>\n",
       "      <td>0</td>\n",
       "      <td>@doppyisfree هارد ستك بلات دي بي اس بالخدمه</td>\n",
       "    </tr>\n",
       "    <tr>\n",
       "      <th>75</th>\n",
       "      <td>https://twitter.com/S0laire0</td>\n",
       "      <td>2022-10-29 01:56:23+00:00</td>\n",
       "      <td>0</td>\n",
       "      <td>@doppyisfree وصلت الايلو هيل والظاهر بترك اللعبه</td>\n",
       "    </tr>\n",
       "  </tbody>\n",
       "</table>\n",
       "<p>76 rows × 4 columns</p>\n",
       "</div>"
      ],
      "text/plain": [
       "                            User              Date_Created  Number_of_Likes  \\\n",
       "0   https://twitter.com/S0laire0 2022-12-05 18:22:56+00:00                0   \n",
       "1   https://twitter.com/S0laire0 2022-12-05 15:38:59+00:00                0   \n",
       "2   https://twitter.com/S0laire0 2022-12-05 15:35:41+00:00                0   \n",
       "3   https://twitter.com/S0laire0 2022-12-05 12:44:11+00:00                0   \n",
       "4   https://twitter.com/S0laire0 2022-12-05 03:39:35+00:00                0   \n",
       "..                           ...                       ...              ...   \n",
       "71  https://twitter.com/S0laire0 2022-10-30 11:04:40+00:00                2   \n",
       "72  https://twitter.com/S0laire0 2022-10-30 02:24:14+00:00                0   \n",
       "73  https://twitter.com/S0laire0 2022-10-29 13:56:32+00:00                0   \n",
       "74  https://twitter.com/S0laire0 2022-10-29 01:57:14+00:00                0   \n",
       "75  https://twitter.com/S0laire0 2022-10-29 01:56:23+00:00                0   \n",
       "\n",
       "                                               Tweets  \n",
       "0          Let the game begin https://t.co/whtlA9hwPd  \n",
       "1        Souls games players: https://t.co/2uR07dTGJH  \n",
       "2                                    @TeosGame Doom 2  \n",
       "3      @LeZeldaa God of war 1 https://t.co/DnhNmX9Vaw  \n",
       "4   @HabisMazin The journey begins NOW? I THOUGHT ...  \n",
       "..                                                ...  \n",
       "71      خل نخلي هذا اول تويته https://t.co/jZgTnMSYwP  \n",
       "72                                   @7lebMoz Anatomy  \n",
       "73                 @doppyisfree شكلك ما تلعبين فل تيم  \n",
       "74        @doppyisfree هارد ستك بلات دي بي اس بالخدمه  \n",
       "75   @doppyisfree وصلت الايلو هيل والظاهر بترك اللعبه  \n",
       "\n",
       "[76 rows x 4 columns]"
      ]
     },
     "execution_count": 5,
     "metadata": {},
     "output_type": "execute_result"
    }
   ],
   "source": [
    "tweets_df"
   ]
  },
  {
   "cell_type": "code",
   "execution_count": 6,
   "id": "217eedf1",
   "metadata": {},
   "outputs": [
    {
     "data": {
      "text/plain": [
       "<AxesSubplot: xlabel='Date_Created'>"
      ]
     },
     "execution_count": 6,
     "metadata": {},
     "output_type": "execute_result"
    },
    {
     "data": {
      "image/png": "[encoded data removed]",
      "text/plain": [
       "<Figure size 640x480 with 1 Axes>"
      ]
     },
     "metadata": {},
     "output_type": "display_data"
    }
   ],
   "source": [
    "res = tweets_df.groupby(tweets_df[\"Date_Created\"].dt.hour).count().reindex(np.arange(24), fill_value=0)\n",
    "res.plot(kind=\"bar\")\n"
   ]
  },
  {
   "cell_type": "markdown",
   "id": "49353593",
   "metadata": {},
   "source": [
    "# IMPORT MODEL AND SCALER"
   ]
  },
  {
   "cell_type": "code",
   "execution_count": 7,
   "id": "7260c3a4",
   "metadata": {},
   "outputs": [],
   "source": [
    "model = tf.keras.models.load_model('model.h5')\n",
    "vectorizer = load(open('tokenizer.pkl', 'rb'))\n",
    " "
   ]
  },
  {
   "cell_type": "code",
   "execution_count": 8,
   "id": "12f12706",
   "metadata": {},
   "outputs": [],
   "source": [
    "TweetsToProcess=tweets_df['Tweets']"
   ]
  },
  {
   "cell_type": "markdown",
   "id": "777dfffb",
   "metadata": {},
   "source": [
    "# Predict Tweets and add them to the dataframe"
   ]
  },
  {
   "cell_type": "code",
   "execution_count": 9,
   "id": "ad8a6dc9",
   "metadata": {},
   "outputs": [],
   "source": [
    " #Apply scaler to data\n",
    "x_test = pad_sequences(vectorizer.texts_to_sequences(TweetsToProcess), maxlen=300)"
   ]
  },
  {
   "cell_type": "code",
   "execution_count": 10,
   "id": "c562cd57",
   "metadata": {},
   "outputs": [
    {
     "name": "stdout",
     "output_type": "stream",
     "text": [
      "3/3 [==============================] - 1s 75ms/step\n"
     ]
    }
   ],
   "source": [
    "score = model.predict(x_test)"
   ]
  },
  {
   "cell_type": "code",
   "execution_count": 11,
   "id": "9b7edd89",
   "metadata": {},
   "outputs": [
    {
     "data": {
      "text/plain": [
       "array([[0.05438134],\n",
       "       [0.0073908 ],\n",
       "       [0.03939098],\n",
       "       [0.01399058],\n",
       "       [0.9055042 ],\n",
       "       [0.27975413],\n",
       "       [0.27975413],\n",
       "       [0.08367011],\n",
       "       [0.15776318],\n",
       "       [0.2606974 ],\n",
       "       [0.15079021],\n",
       "       [0.2606974 ],\n",
       "       [0.05212334],\n",
       "       [0.08681586],\n",
       "       [0.00358612],\n",
       "       [0.2606974 ],\n",
       "       [0.03560457],\n",
       "       [0.0839025 ],\n",
       "       [0.0511466 ],\n",
       "       [0.00448741],\n",
       "       [0.2606974 ],\n",
       "       [0.2606974 ],\n",
       "       [0.04180717],\n",
       "       [0.01032921],\n",
       "       [0.27975413],\n",
       "       [0.2606974 ],\n",
       "       [0.11207006],\n",
       "       [0.27975413],\n",
       "       [0.4151717 ],\n",
       "       [0.2606974 ],\n",
       "       [0.08770336],\n",
       "       [0.00470021],\n",
       "       [0.27975413],\n",
       "       [0.2606974 ],\n",
       "       [0.2606974 ],\n",
       "       [0.08367011],\n",
       "       [0.02629257],\n",
       "       [0.00761256],\n",
       "       [0.09464628],\n",
       "       [0.27975413],\n",
       "       [0.39764303],\n",
       "       [0.2606974 ],\n",
       "       [0.27975413],\n",
       "       [0.00264248],\n",
       "       [0.03961816],\n",
       "       [0.2606974 ],\n",
       "       [0.1705959 ],\n",
       "       [0.2606974 ],\n",
       "       [0.04161571],\n",
       "       [0.00631668],\n",
       "       [0.68874884],\n",
       "       [0.00956624],\n",
       "       [0.07256944],\n",
       "       [0.24510619],\n",
       "       [0.0688739 ],\n",
       "       [0.54082704],\n",
       "       [0.02759627],\n",
       "       [0.5671735 ],\n",
       "       [0.19647416],\n",
       "       [0.00138308],\n",
       "       [0.02417693],\n",
       "       [0.14460145],\n",
       "       [0.5633403 ],\n",
       "       [0.06335078],\n",
       "       [0.05483925],\n",
       "       [0.00567592],\n",
       "       [0.2796243 ],\n",
       "       [0.042461  ],\n",
       "       [0.15917526],\n",
       "       [0.008124  ],\n",
       "       [0.15690883],\n",
       "       [0.2797542 ],\n",
       "       [0.03834408],\n",
       "       [0.2606974 ],\n",
       "       [0.2606974 ],\n",
       "       [0.2606974 ]], dtype=float32)"
      ]
     },
     "execution_count": 11,
     "metadata": {},
     "output_type": "execute_result"
    }
   ],
   "source": [
    "score"
   ]
  },
  {
   "cell_type": "code",
   "execution_count": 12,
   "id": "7c6eb677",
   "metadata": {},
   "outputs": [],
   "source": [
    "tweets_df[\"Predictions_Percentange\"]=score"
   ]
  },
  {
   "cell_type": "markdown",
   "id": "27a40c6f",
   "metadata": {},
   "source": [
    "### If percentange is bigger than or equal to 0.5 then we can classify this tweet as a depressing one\n",
    "### Rule of thumb the closer to 1 it gets the more depressing it is"
   ]
  },
  {
   "cell_type": "code",
   "execution_count": 13,
   "id": "f9969cb4",
   "metadata": {},
   "outputs": [
    {
     "data": {
      "text/html": [
       "<div>\n",
       "<style scoped>\n",
       "    .dataframe tbody tr th:only-of-type {\n",
       "        vertical-align: middle;\n",
       "    }\n",
       "\n",
       "    .dataframe tbody tr th {\n",
       "        vertical-align: top;\n",
       "    }\n",
       "\n",
       "    .dataframe thead th {\n",
       "        text-align: right;\n",
       "    }\n",
       "</style>\n",
       "<table border=\"1\" class=\"dataframe\">\n",
       "  <thead>\n",
       "    <tr style=\"text-align: right;\">\n",
       "      <th></th>\n",
       "      <th>User</th>\n",
       "      <th>Date_Created</th>\n",
       "      <th>Number_of_Likes</th>\n",
       "      <th>Tweets</th>\n",
       "      <th>Predictions_Percentange</th>\n",
       "    </tr>\n",
       "  </thead>\n",
       "  <tbody>\n",
       "    <tr>\n",
       "      <th>0</th>\n",
       "      <td>https://twitter.com/S0laire0</td>\n",
       "      <td>2022-12-05 18:22:56+00:00</td>\n",
       "      <td>0</td>\n",
       "      <td>Let the game begin https://t.co/whtlA9hwPd</td>\n",
       "      <td>0.054381</td>\n",
       "    </tr>\n",
       "    <tr>\n",
       "      <th>1</th>\n",
       "      <td>https://twitter.com/S0laire0</td>\n",
       "      <td>2022-12-05 15:38:59+00:00</td>\n",
       "      <td>0</td>\n",
       "      <td>Souls games players: https://t.co/2uR07dTGJH</td>\n",
       "      <td>0.007391</td>\n",
       "    </tr>\n",
       "    <tr>\n",
       "      <th>2</th>\n",
       "      <td>https://twitter.com/S0laire0</td>\n",
       "      <td>2022-12-05 15:35:41+00:00</td>\n",
       "      <td>0</td>\n",
       "      <td>@TeosGame Doom 2</td>\n",
       "      <td>0.039391</td>\n",
       "    </tr>\n",
       "    <tr>\n",
       "      <th>3</th>\n",
       "      <td>https://twitter.com/S0laire0</td>\n",
       "      <td>2022-12-05 12:44:11+00:00</td>\n",
       "      <td>0</td>\n",
       "      <td>@LeZeldaa God of war 1 https://t.co/DnhNmX9Vaw</td>\n",
       "      <td>0.013991</td>\n",
       "    </tr>\n",
       "    <tr>\n",
       "      <th>4</th>\n",
       "      <td>https://twitter.com/S0laire0</td>\n",
       "      <td>2022-12-05 03:39:35+00:00</td>\n",
       "      <td>0</td>\n",
       "      <td>@HabisMazin The journey begins NOW? I THOUGHT ...</td>\n",
       "      <td>0.905504</td>\n",
       "    </tr>\n",
       "    <tr>\n",
       "      <th>...</th>\n",
       "      <td>...</td>\n",
       "      <td>...</td>\n",
       "      <td>...</td>\n",
       "      <td>...</td>\n",
       "      <td>...</td>\n",
       "    </tr>\n",
       "    <tr>\n",
       "      <th>71</th>\n",
       "      <td>https://twitter.com/S0laire0</td>\n",
       "      <td>2022-10-30 11:04:40+00:00</td>\n",
       "      <td>2</td>\n",
       "      <td>خل نخلي هذا اول تويته https://t.co/jZgTnMSYwP</td>\n",
       "      <td>0.279754</td>\n",
       "    </tr>\n",
       "    <tr>\n",
       "      <th>72</th>\n",
       "      <td>https://twitter.com/S0laire0</td>\n",
       "      <td>2022-10-30 02:24:14+00:00</td>\n",
       "      <td>0</td>\n",
       "      <td>@7lebMoz Anatomy</td>\n",
       "      <td>0.038344</td>\n",
       "    </tr>\n",
       "    <tr>\n",
       "      <th>73</th>\n",
       "      <td>https://twitter.com/S0laire0</td>\n",
       "      <td>2022-10-29 13:56:32+00:00</td>\n",
       "      <td>0</td>\n",
       "      <td>@doppyisfree شكلك ما تلعبين فل تيم</td>\n",
       "      <td>0.260697</td>\n",
       "    </tr>\n",
       "    <tr>\n",
       "      <th>74</th>\n",
       "      <td>https://twitter.com/S0laire0</td>\n",
       "      <td>2022-10-29 01:57:14+00:00</td>\n",
       "      <td>0</td>\n",
       "      <td>@doppyisfree هارد ستك بلات دي بي اس بالخدمه</td>\n",
       "      <td>0.260697</td>\n",
       "    </tr>\n",
       "    <tr>\n",
       "      <th>75</th>\n",
       "      <td>https://twitter.com/S0laire0</td>\n",
       "      <td>2022-10-29 01:56:23+00:00</td>\n",
       "      <td>0</td>\n",
       "      <td>@doppyisfree وصلت الايلو هيل والظاهر بترك اللعبه</td>\n",
       "      <td>0.260697</td>\n",
       "    </tr>\n",
       "  </tbody>\n",
       "</table>\n",
       "<p>76 rows × 5 columns</p>\n",
       "</div>"
      ],
      "text/plain": [
       "                            User              Date_Created  Number_of_Likes  \\\n",
       "0   https://twitter.com/S0laire0 2022-12-05 18:22:56+00:00                0   \n",
       "1   https://twitter.com/S0laire0 2022-12-05 15:38:59+00:00                0   \n",
       "2   https://twitter.com/S0laire0 2022-12-05 15:35:41+00:00                0   \n",
       "3   https://twitter.com/S0laire0 2022-12-05 12:44:11+00:00                0   \n",
       "4   https://twitter.com/S0laire0 2022-12-05 03:39:35+00:00                0   \n",
       "..                           ...                       ...              ...   \n",
       "71  https://twitter.com/S0laire0 2022-10-30 11:04:40+00:00                2   \n",
       "72  https://twitter.com/S0laire0 2022-10-30 02:24:14+00:00                0   \n",
       "73  https://twitter.com/S0laire0 2022-10-29 13:56:32+00:00                0   \n",
       "74  https://twitter.com/S0laire0 2022-10-29 01:57:14+00:00                0   \n",
       "75  https://twitter.com/S0laire0 2022-10-29 01:56:23+00:00                0   \n",
       "\n",
       "                                               Tweets  Predictions_Percentange  \n",
       "0          Let the game begin https://t.co/whtlA9hwPd                 0.054381  \n",
       "1        Souls games players: https://t.co/2uR07dTGJH                 0.007391  \n",
       "2                                    @TeosGame Doom 2                 0.039391  \n",
       "3      @LeZeldaa God of war 1 https://t.co/DnhNmX9Vaw                 0.013991  \n",
       "4   @HabisMazin The journey begins NOW? I THOUGHT ...                 0.905504  \n",
       "..                                                ...                      ...  \n",
       "71      خل نخلي هذا اول تويته https://t.co/jZgTnMSYwP                 0.279754  \n",
       "72                                   @7lebMoz Anatomy                 0.038344  \n",
       "73                 @doppyisfree شكلك ما تلعبين فل تيم                 0.260697  \n",
       "74        @doppyisfree هارد ستك بلات دي بي اس بالخدمه                 0.260697  \n",
       "75   @doppyisfree وصلت الايلو هيل والظاهر بترك اللعبه                 0.260697  \n",
       "\n",
       "[76 rows x 5 columns]"
      ]
     },
     "execution_count": 13,
     "metadata": {},
     "output_type": "execute_result"
    }
   ],
   "source": [
    "tweets_df"
   ]
  },
  {
   "cell_type": "code",
   "execution_count": 14,
   "id": "3d8a0eb5",
   "metadata": {},
   "outputs": [],
   "source": [
    "tweets_df[\"Predictions\"]=np.where(tweets_df['Predictions_Percentange']>=0.5, \"Depression\", \"Non-Depression\")\n"
   ]
  },
  {
   "cell_type": "code",
   "execution_count": 15,
   "id": "59ff9ceb",
   "metadata": {
    "scrolled": true
   },
   "outputs": [
    {
     "data": {
      "text/html": [
       "<div>\n",
       "<style scoped>\n",
       "    .dataframe tbody tr th:only-of-type {\n",
       "        vertical-align: middle;\n",
       "    }\n",
       "\n",
       "    .dataframe tbody tr th {\n",
       "        vertical-align: top;\n",
       "    }\n",
       "\n",
       "    .dataframe thead th {\n",
       "        text-align: right;\n",
       "    }\n",
       "</style>\n",
       "<table border=\"1\" class=\"dataframe\">\n",
       "  <thead>\n",
       "    <tr style=\"text-align: right;\">\n",
       "      <th></th>\n",
       "      <th>User</th>\n",
       "      <th>Date_Created</th>\n",
       "      <th>Number_of_Likes</th>\n",
       "      <th>Tweets</th>\n",
       "      <th>Predictions_Percentange</th>\n",
       "      <th>Predictions</th>\n",
       "    </tr>\n",
       "  </thead>\n",
       "  <tbody>\n",
       "    <tr>\n",
       "      <th>0</th>\n",
       "      <td>https://twitter.com/S0laire0</td>\n",
       "      <td>2022-12-05 18:22:56+00:00</td>\n",
       "      <td>0</td>\n",
       "      <td>Let the game begin https://t.co/whtlA9hwPd</td>\n",
       "      <td>0.054381</td>\n",
       "      <td>Non-Depression</td>\n",
       "    </tr>\n",
       "    <tr>\n",
       "      <th>1</th>\n",
       "      <td>https://twitter.com/S0laire0</td>\n",
       "      <td>2022-12-05 15:38:59+00:00</td>\n",
       "      <td>0</td>\n",
       "      <td>Souls games players: https://t.co/2uR07dTGJH</td>\n",
       "      <td>0.007391</td>\n",
       "      <td>Non-Depression</td>\n",
       "    </tr>\n",
       "    <tr>\n",
       "      <th>2</th>\n",
       "      <td>https://twitter.com/S0laire0</td>\n",
       "      <td>2022-12-05 15:35:41+00:00</td>\n",
       "      <td>0</td>\n",
       "      <td>@TeosGame Doom 2</td>\n",
       "      <td>0.039391</td>\n",
       "      <td>Non-Depression</td>\n",
       "    </tr>\n",
       "    <tr>\n",
       "      <th>3</th>\n",
       "      <td>https://twitter.com/S0laire0</td>\n",
       "      <td>2022-12-05 12:44:11+00:00</td>\n",
       "      <td>0</td>\n",
       "      <td>@LeZeldaa God of war 1 https://t.co/DnhNmX9Vaw</td>\n",
       "      <td>0.013991</td>\n",
       "      <td>Non-Depression</td>\n",
       "    </tr>\n",
       "    <tr>\n",
       "      <th>4</th>\n",
       "      <td>https://twitter.com/S0laire0</td>\n",
       "      <td>2022-12-05 03:39:35+00:00</td>\n",
       "      <td>0</td>\n",
       "      <td>@HabisMazin The journey begins NOW? I THOUGHT ...</td>\n",
       "      <td>0.905504</td>\n",
       "      <td>Depression</td>\n",
       "    </tr>\n",
       "    <tr>\n",
       "      <th>...</th>\n",
       "      <td>...</td>\n",
       "      <td>...</td>\n",
       "      <td>...</td>\n",
       "      <td>...</td>\n",
       "      <td>...</td>\n",
       "      <td>...</td>\n",
       "    </tr>\n",
       "    <tr>\n",
       "      <th>71</th>\n",
       "      <td>https://twitter.com/S0laire0</td>\n",
       "      <td>2022-10-30 11:04:40+00:00</td>\n",
       "      <td>2</td>\n",
       "      <td>خل نخلي هذا اول تويته https://t.co/jZgTnMSYwP</td>\n",
       "      <td>0.279754</td>\n",
       "      <td>Non-Depression</td>\n",
       "    </tr>\n",
       "    <tr>\n",
       "      <th>72</th>\n",
       "      <td>https://twitter.com/S0laire0</td>\n",
       "      <td>2022-10-30 02:24:14+00:00</td>\n",
       "      <td>0</td>\n",
       "      <td>@7lebMoz Anatomy</td>\n",
       "      <td>0.038344</td>\n",
       "      <td>Non-Depression</td>\n",
       "    </tr>\n",
       "    <tr>\n",
       "      <th>73</th>\n",
       "      <td>https://twitter.com/S0laire0</td>\n",
       "      <td>2022-10-29 13:56:32+00:00</td>\n",
       "      <td>0</td>\n",
       "      <td>@doppyisfree شكلك ما تلعبين فل تيم</td>\n",
       "      <td>0.260697</td>\n",
       "      <td>Non-Depression</td>\n",
       "    </tr>\n",
       "    <tr>\n",
       "      <th>74</th>\n",
       "      <td>https://twitter.com/S0laire0</td>\n",
       "      <td>2022-10-29 01:57:14+00:00</td>\n",
       "      <td>0</td>\n",
       "      <td>@doppyisfree هارد ستك بلات دي بي اس بالخدمه</td>\n",
       "      <td>0.260697</td>\n",
       "      <td>Non-Depression</td>\n",
       "    </tr>\n",
       "    <tr>\n",
       "      <th>75</th>\n",
       "      <td>https://twitter.com/S0laire0</td>\n",
       "      <td>2022-10-29 01:56:23+00:00</td>\n",
       "      <td>0</td>\n",
       "      <td>@doppyisfree وصلت الايلو هيل والظاهر بترك اللعبه</td>\n",
       "      <td>0.260697</td>\n",
       "      <td>Non-Depression</td>\n",
       "    </tr>\n",
       "  </tbody>\n",
       "</table>\n",
       "<p>76 rows × 6 columns</p>\n",
       "</div>"
      ],
      "text/plain": [
       "                            User              Date_Created  Number_of_Likes  \\\n",
       "0   https://twitter.com/S0laire0 2022-12-05 18:22:56+00:00                0   \n",
       "1   https://twitter.com/S0laire0 2022-12-05 15:38:59+00:00                0   \n",
       "2   https://twitter.com/S0laire0 2022-12-05 15:35:41+00:00                0   \n",
       "3   https://twitter.com/S0laire0 2022-12-05 12:44:11+00:00                0   \n",
       "4   https://twitter.com/S0laire0 2022-12-05 03:39:35+00:00                0   \n",
       "..                           ...                       ...              ...   \n",
       "71  https://twitter.com/S0laire0 2022-10-30 11:04:40+00:00                2   \n",
       "72  https://twitter.com/S0laire0 2022-10-30 02:24:14+00:00                0   \n",
       "73  https://twitter.com/S0laire0 2022-10-29 13:56:32+00:00                0   \n",
       "74  https://twitter.com/S0laire0 2022-10-29 01:57:14+00:00                0   \n",
       "75  https://twitter.com/S0laire0 2022-10-29 01:56:23+00:00                0   \n",
       "\n",
       "                                               Tweets  \\\n",
       "0          Let the game begin https://t.co/whtlA9hwPd   \n",
       "1        Souls games players: https://t.co/2uR07dTGJH   \n",
       "2                                    @TeosGame Doom 2   \n",
       "3      @LeZeldaa God of war 1 https://t.co/DnhNmX9Vaw   \n",
       "4   @HabisMazin The journey begins NOW? I THOUGHT ...   \n",
       "..                                                ...   \n",
       "71      خل نخلي هذا اول تويته https://t.co/jZgTnMSYwP   \n",
       "72                                   @7lebMoz Anatomy   \n",
       "73                 @doppyisfree شكلك ما تلعبين فل تيم   \n",
       "74        @doppyisfree هارد ستك بلات دي بي اس بالخدمه   \n",
       "75   @doppyisfree وصلت الايلو هيل والظاهر بترك اللعبه   \n",
       "\n",
       "    Predictions_Percentange     Predictions  \n",
       "0                  0.054381  Non-Depression  \n",
       "1                  0.007391  Non-Depression  \n",
       "2                  0.039391  Non-Depression  \n",
       "3                  0.013991  Non-Depression  \n",
       "4                  0.905504      Depression  \n",
       "..                      ...             ...  \n",
       "71                 0.279754  Non-Depression  \n",
       "72                 0.038344  Non-Depression  \n",
       "73                 0.260697  Non-Depression  \n",
       "74                 0.260697  Non-Depression  \n",
       "75                 0.260697  Non-Depression  \n",
       "\n",
       "[76 rows x 6 columns]"
      ]
     },
     "execution_count": 15,
     "metadata": {},
     "output_type": "execute_result"
    }
   ],
   "source": [
    "tweets_df"
   ]
  },
  {
   "cell_type": "markdown",
   "id": "a93f5476",
   "metadata": {},
   "source": [
    "## EDA & Insights"
   ]
  },
  {
   "cell_type": "markdown",
   "id": "49d6858f",
   "metadata": {},
   "source": [
    "## Splitting date time to get more features and insights "
   ]
  },
  {
   "cell_type": "code",
   "execution_count": 16,
   "id": "0e341fdb",
   "metadata": {},
   "outputs": [],
   "source": [
    "tweets_df['year'] = tweets_df['Date_Created'].dt.year\n",
    "\n",
    "\n",
    "##Creating the month column form date time stamp.\n",
    "\n",
    "tweets_df['month'] = tweets_df['Date_Created'].dt.month\n",
    "\n",
    "\n",
    "##Creating the day column form date time stamp.\n",
    "\n",
    "tweets_df['day'] = tweets_df['Date_Created'].dt.day\n",
    "\n",
    "\n",
    "##Creating the hour column form date time stamp.\n",
    "\n",
    "tweets_df['hour'] = tweets_df['Date_Created'].dt.hour\n",
    "\n",
    "\n",
    "midnight_df = tweets_df.query(\"hour <= 5\")\n"
   ]
  },
  {
   "cell_type": "code",
   "execution_count": 17,
   "id": "257b810f",
   "metadata": {},
   "outputs": [
    {
     "data": {
      "text/html": [
       "<div>\n",
       "<style scoped>\n",
       "    .dataframe tbody tr th:only-of-type {\n",
       "        vertical-align: middle;\n",
       "    }\n",
       "\n",
       "    .dataframe tbody tr th {\n",
       "        vertical-align: top;\n",
       "    }\n",
       "\n",
       "    .dataframe thead th {\n",
       "        text-align: right;\n",
       "    }\n",
       "</style>\n",
       "<table border=\"1\" class=\"dataframe\">\n",
       "  <thead>\n",
       "    <tr style=\"text-align: right;\">\n",
       "      <th></th>\n",
       "      <th>User</th>\n",
       "      <th>Date_Created</th>\n",
       "      <th>Number_of_Likes</th>\n",
       "      <th>Tweets</th>\n",
       "      <th>Predictions_Percentange</th>\n",
       "      <th>Predictions</th>\n",
       "      <th>year</th>\n",
       "      <th>month</th>\n",
       "      <th>day</th>\n",
       "      <th>hour</th>\n",
       "    </tr>\n",
       "  </thead>\n",
       "  <tbody>\n",
       "    <tr>\n",
       "      <th>0</th>\n",
       "      <td>https://twitter.com/S0laire0</td>\n",
       "      <td>2022-12-05 18:22:56+00:00</td>\n",
       "      <td>0</td>\n",
       "      <td>Let the game begin https://t.co/whtlA9hwPd</td>\n",
       "      <td>0.054381</td>\n",
       "      <td>Non-Depression</td>\n",
       "      <td>2022</td>\n",
       "      <td>12</td>\n",
       "      <td>5</td>\n",
       "      <td>18</td>\n",
       "    </tr>\n",
       "    <tr>\n",
       "      <th>1</th>\n",
       "      <td>https://twitter.com/S0laire0</td>\n",
       "      <td>2022-12-05 15:38:59+00:00</td>\n",
       "      <td>0</td>\n",
       "      <td>Souls games players: https://t.co/2uR07dTGJH</td>\n",
       "      <td>0.007391</td>\n",
       "      <td>Non-Depression</td>\n",
       "      <td>2022</td>\n",
       "      <td>12</td>\n",
       "      <td>5</td>\n",
       "      <td>15</td>\n",
       "    </tr>\n",
       "    <tr>\n",
       "      <th>2</th>\n",
       "      <td>https://twitter.com/S0laire0</td>\n",
       "      <td>2022-12-05 15:35:41+00:00</td>\n",
       "      <td>0</td>\n",
       "      <td>@TeosGame Doom 2</td>\n",
       "      <td>0.039391</td>\n",
       "      <td>Non-Depression</td>\n",
       "      <td>2022</td>\n",
       "      <td>12</td>\n",
       "      <td>5</td>\n",
       "      <td>15</td>\n",
       "    </tr>\n",
       "    <tr>\n",
       "      <th>3</th>\n",
       "      <td>https://twitter.com/S0laire0</td>\n",
       "      <td>2022-12-05 12:44:11+00:00</td>\n",
       "      <td>0</td>\n",
       "      <td>@LeZeldaa God of war 1 https://t.co/DnhNmX9Vaw</td>\n",
       "      <td>0.013991</td>\n",
       "      <td>Non-Depression</td>\n",
       "      <td>2022</td>\n",
       "      <td>12</td>\n",
       "      <td>5</td>\n",
       "      <td>12</td>\n",
       "    </tr>\n",
       "    <tr>\n",
       "      <th>4</th>\n",
       "      <td>https://twitter.com/S0laire0</td>\n",
       "      <td>2022-12-05 03:39:35+00:00</td>\n",
       "      <td>0</td>\n",
       "      <td>@HabisMazin The journey begins NOW? I THOUGHT ...</td>\n",
       "      <td>0.905504</td>\n",
       "      <td>Depression</td>\n",
       "      <td>2022</td>\n",
       "      <td>12</td>\n",
       "      <td>5</td>\n",
       "      <td>3</td>\n",
       "    </tr>\n",
       "    <tr>\n",
       "      <th>...</th>\n",
       "      <td>...</td>\n",
       "      <td>...</td>\n",
       "      <td>...</td>\n",
       "      <td>...</td>\n",
       "      <td>...</td>\n",
       "      <td>...</td>\n",
       "      <td>...</td>\n",
       "      <td>...</td>\n",
       "      <td>...</td>\n",
       "      <td>...</td>\n",
       "    </tr>\n",
       "    <tr>\n",
       "      <th>71</th>\n",
       "      <td>https://twitter.com/S0laire0</td>\n",
       "      <td>2022-10-30 11:04:40+00:00</td>\n",
       "      <td>2</td>\n",
       "      <td>خل نخلي هذا اول تويته https://t.co/jZgTnMSYwP</td>\n",
       "      <td>0.279754</td>\n",
       "      <td>Non-Depression</td>\n",
       "      <td>2022</td>\n",
       "      <td>10</td>\n",
       "      <td>30</td>\n",
       "      <td>11</td>\n",
       "    </tr>\n",
       "    <tr>\n",
       "      <th>72</th>\n",
       "      <td>https://twitter.com/S0laire0</td>\n",
       "      <td>2022-10-30 02:24:14+00:00</td>\n",
       "      <td>0</td>\n",
       "      <td>@7lebMoz Anatomy</td>\n",
       "      <td>0.038344</td>\n",
       "      <td>Non-Depression</td>\n",
       "      <td>2022</td>\n",
       "      <td>10</td>\n",
       "      <td>30</td>\n",
       "      <td>2</td>\n",
       "    </tr>\n",
       "    <tr>\n",
       "      <th>73</th>\n",
       "      <td>https://twitter.com/S0laire0</td>\n",
       "      <td>2022-10-29 13:56:32+00:00</td>\n",
       "      <td>0</td>\n",
       "      <td>@doppyisfree شكلك ما تلعبين فل تيم</td>\n",
       "      <td>0.260697</td>\n",
       "      <td>Non-Depression</td>\n",
       "      <td>2022</td>\n",
       "      <td>10</td>\n",
       "      <td>29</td>\n",
       "      <td>13</td>\n",
       "    </tr>\n",
       "    <tr>\n",
       "      <th>74</th>\n",
       "      <td>https://twitter.com/S0laire0</td>\n",
       "      <td>2022-10-29 01:57:14+00:00</td>\n",
       "      <td>0</td>\n",
       "      <td>@doppyisfree هارد ستك بلات دي بي اس بالخدمه</td>\n",
       "      <td>0.260697</td>\n",
       "      <td>Non-Depression</td>\n",
       "      <td>2022</td>\n",
       "      <td>10</td>\n",
       "      <td>29</td>\n",
       "      <td>1</td>\n",
       "    </tr>\n",
       "    <tr>\n",
       "      <th>75</th>\n",
       "      <td>https://twitter.com/S0laire0</td>\n",
       "      <td>2022-10-29 01:56:23+00:00</td>\n",
       "      <td>0</td>\n",
       "      <td>@doppyisfree وصلت الايلو هيل والظاهر بترك اللعبه</td>\n",
       "      <td>0.260697</td>\n",
       "      <td>Non-Depression</td>\n",
       "      <td>2022</td>\n",
       "      <td>10</td>\n",
       "      <td>29</td>\n",
       "      <td>1</td>\n",
       "    </tr>\n",
       "  </tbody>\n",
       "</table>\n",
       "<p>76 rows × 10 columns</p>\n",
       "</div>"
      ],
      "text/plain": [
       "                            User              Date_Created  Number_of_Likes  \\\n",
       "0   https://twitter.com/S0laire0 2022-12-05 18:22:56+00:00                0   \n",
       "1   https://twitter.com/S0laire0 2022-12-05 15:38:59+00:00                0   \n",
       "2   https://twitter.com/S0laire0 2022-12-05 15:35:41+00:00                0   \n",
       "3   https://twitter.com/S0laire0 2022-12-05 12:44:11+00:00                0   \n",
       "4   https://twitter.com/S0laire0 2022-12-05 03:39:35+00:00                0   \n",
       "..                           ...                       ...              ...   \n",
       "71  https://twitter.com/S0laire0 2022-10-30 11:04:40+00:00                2   \n",
       "72  https://twitter.com/S0laire0 2022-10-30 02:24:14+00:00                0   \n",
       "73  https://twitter.com/S0laire0 2022-10-29 13:56:32+00:00                0   \n",
       "74  https://twitter.com/S0laire0 2022-10-29 01:57:14+00:00                0   \n",
       "75  https://twitter.com/S0laire0 2022-10-29 01:56:23+00:00                0   \n",
       "\n",
       "                                               Tweets  \\\n",
       "0          Let the game begin https://t.co/whtlA9hwPd   \n",
       "1        Souls games players: https://t.co/2uR07dTGJH   \n",
       "2                                    @TeosGame Doom 2   \n",
       "3      @LeZeldaa God of war 1 https://t.co/DnhNmX9Vaw   \n",
       "4   @HabisMazin The journey begins NOW? I THOUGHT ...   \n",
       "..                                                ...   \n",
       "71      خل نخلي هذا اول تويته https://t.co/jZgTnMSYwP   \n",
       "72                                   @7lebMoz Anatomy   \n",
       "73                 @doppyisfree شكلك ما تلعبين فل تيم   \n",
       "74        @doppyisfree هارد ستك بلات دي بي اس بالخدمه   \n",
       "75   @doppyisfree وصلت الايلو هيل والظاهر بترك اللعبه   \n",
       "\n",
       "    Predictions_Percentange     Predictions  year  month  day  hour  \n",
       "0                  0.054381  Non-Depression  2022     12    5    18  \n",
       "1                  0.007391  Non-Depression  2022     12    5    15  \n",
       "2                  0.039391  Non-Depression  2022     12    5    15  \n",
       "3                  0.013991  Non-Depression  2022     12    5    12  \n",
       "4                  0.905504      Depression  2022     12    5     3  \n",
       "..                      ...             ...   ...    ...  ...   ...  \n",
       "71                 0.279754  Non-Depression  2022     10   30    11  \n",
       "72                 0.038344  Non-Depression  2022     10   30     2  \n",
       "73                 0.260697  Non-Depression  2022     10   29    13  \n",
       "74                 0.260697  Non-Depression  2022     10   29     1  \n",
       "75                 0.260697  Non-Depression  2022     10   29     1  \n",
       "\n",
       "[76 rows x 10 columns]"
      ]
     },
     "execution_count": 17,
     "metadata": {},
     "output_type": "execute_result"
    }
   ],
   "source": [
    "tweets_df"
   ]
  },
  {
   "cell_type": "markdown",
   "id": "dd54ee17",
   "metadata": {},
   "source": [
    "## We're All Set Time To Explore Our Data!!"
   ]
  },
  {
   "cell_type": "code",
   "execution_count": 18,
   "id": "5174a311",
   "metadata": {
    "scrolled": true
   },
   "outputs": [
    {
     "data": {
      "application/vnd.plotly.v1+json": {
       "config": {
        "plotlyServerURL": "https://plot.ly"
       },
       "data": [
        {
         "alignmentgroup": "True",
         "hovertemplate": "Predictions=%{x}<br>count=%{y}<br>month=%{marker.color}<extra></extra>",
         "legendgroup": "",
         "marker": {
          "color": [
           12,
           12,
           12,
           12,
           12,
           12,
           12,
           12,
           12,
           12,
           12,
           12,
           11,
           11,
           11,
           11,
           11,
           11,
           11,
           11,
           11,
           11,
           11,
           11,
           11,
           11,
           11,
           11,
           11,
           11,
           11,
           11,
           11,
           11,
           11,
           11,
           11,
           11,
           11,
           11,
           11,
           11,
           11,
           11,
           11,
           11,
           11,
           11,
           11,
           11,
           11,
           11,
           11,
           11,
           11,
           11,
           11,
           11,
           11,
           11,
           11,
           11,
           11,
           11,
           11,
           11,
           11,
           10,
           10,
           10,
           10,
           10,
           10,
           10,
           10,
           10
          ],
          "coloraxis": "coloraxis",
          "pattern": {
           "shape": ""
          }
         },
         "name": "",
         "offsetgroup": "",
         "orientation": "v",
         "showlegend": false,
         "textposition": "auto",
         "type": "bar",
         "x": [
          "Non-Depression",
          "Non-Depression",
          "Non-Depression",
          "Non-Depression",
          "Depression",
          "Non-Depression",
          "Non-Depression",
          "Non-Depression",
          "Non-Depression",
          "Non-Depression",
          "Non-Depression",
          "Non-Depression",
          "Non-Depression",
          "Non-Depression",
          "Non-Depression",
          "Non-Depression",
          "Non-Depression",
          "Non-Depression",
          "Non-Depression",
          "Non-Depression",
          "Non-Depression",
          "Non-Depression",
          "Non-Depression",
          "Non-Depression",
          "Non-Depression",
          "Non-Depression",
          "Non-Depression",
          "Non-Depression",
          "Non-Depression",
          "Non-Depression",
          "Non-Depression",
          "Non-Depression",
          "Non-Depression",
          "Non-Depression",
          "Non-Depression",
          "Non-Depression",
          "Non-Depression",
          "Non-Depression",
          "Non-Depression",
          "Non-Depression",
          "Non-Depression",
          "Non-Depression",
          "Non-Depression",
          "Non-Depression",
          "Non-Depression",
          "Non-Depression",
          "Non-Depression",
          "Non-Depression",
          "Non-Depression",
          "Non-Depression",
          "Depression",
          "Non-Depression",
          "Non-Depression",
          "Non-Depression",
          "Non-Depression",
          "Depression",
          "Non-Depression",
          "Depression",
          "Non-Depression",
          "Non-Depression",
          "Non-Depression",
          "Non-Depression",
          "Depression",
          "Non-Depression",
          "Non-Depression",
          "Non-Depression",
          "Non-Depression",
          "Non-Depression",
          "Non-Depression",
          "Non-Depression",
          "Non-Depression",
          "Non-Depression",
          "Non-Depression",
          "Non-Depression",
          "Non-Depression",
          "Non-Depression"
         ],
         "xaxis": "x",
         "y": [
          1,
          1,
          1,
          1,
          1,
          1,
          1,
          1,
          1,
          1,
          1,
          1,
          1,
          1,
          1,
          1,
          1,
          1,
          1,
          1,
          1,
          1,
          1,
          1,
          1,
          1,
          1,
          1,
          1,
          1,
          1,
          1,
          1,
          1,
          1,
          1,
          1,
          1,
          1,
          1,
          1,
          1,
          1,
          1,
          1,
          1,
          1,
          1,
          1,
          1,
          1,
          1,
          1,
          1,
          1,
          1,
          1,
          1,
          1,
          1,
          1,
          1,
          1,
          1,
          1,
          1,
          1,
          1,
          1,
          1,
          1,
          1,
          1,
          1,
          1,
          1
         ],
         "yaxis": "y"
        }
       ],
       "layout": {
        "barmode": "relative",
        "coloraxis": {
         "colorbar": {
          "title": {
           "text": "month"
          }
         },
         "colorscale": [
          [
           0,
           "#0d0887"
          ],
          [
           0.1111111111111111,
           "#46039f"
          ],
          [
           0.2222222222222222,
           "#7201a8"
          ],
          [
           0.3333333333333333,
           "#9c179e"
          ],
          [
           0.4444444444444444,
           "#bd3786"
          ],
          [
           0.5555555555555556,
           "#d8576b"
          ],
          [
           0.6666666666666666,
           "#ed7953"
          ],
          [
           0.7777777777777778,
           "#fb9f3a"
          ],
          [
           0.8888888888888888,
           "#fdca26"
          ],
          [
           1,
           "#f0f921"
          ]
         ]
        },
        "legend": {
         "tracegroupgap": 0
        },
        "template": {
         "data": {
          "bar": [
           {
            "error_x": {
             "color": "#2a3f5f"
            },
            "error_y": {
             "color": "#2a3f5f"
            },
            "marker": {
             "line": {
              "color": "#E5ECF6",
              "width": 0.5
             },
             "pattern": {
              "fillmode": "overlay",
              "size": 10,
              "solidity": 0.2
             }
            },
            "type": "bar"
           }
          ],
          "barpolar": [
           {
            "marker": {
             "line": {
              "color": "#E5ECF6",
              "width": 0.5
             },
             "pattern": {
              "fillmode": "overlay",
              "size": 10,
              "solidity": 0.2
             }
            },
            "type": "barpolar"
           }
          ],
          "carpet": [
           {
            "aaxis": {
             "endlinecolor": "#2a3f5f",
             "gridcolor": "white",
             "linecolor": "white",
             "minorgridcolor": "white",
             "startlinecolor": "#2a3f5f"
            },
            "baxis": {
             "endlinecolor": "#2a3f5f",
             "gridcolor": "white",
             "linecolor": "white",
             "minorgridcolor": "white",
             "startlinecolor": "#2a3f5f"
            },
            "type": "carpet"
           }
          ],
          "choropleth": [
           {
            "colorbar": {
             "outlinewidth": 0,
             "ticks": ""
            },
            "type": "choropleth"
           }
          ],
          "contour": [
           {
            "colorbar": {
             "outlinewidth": 0,
             "ticks": ""
            },
            "colorscale": [
             [
              0,
              "#0d0887"
             ],
             [
              0.1111111111111111,
              "#46039f"
             ],
             [
              0.2222222222222222,
              "#7201a8"
             ],
             [
              0.3333333333333333,
              "#9c179e"
             ],
             [
              0.4444444444444444,
              "#bd3786"
             ],
             [
              0.5555555555555556,
              "#d8576b"
             ],
             [
              0.6666666666666666,
              "#ed7953"
             ],
             [
              0.7777777777777778,
              "#fb9f3a"
             ],
             [
              0.8888888888888888,
              "#fdca26"
             ],
             [
              1,
              "#f0f921"
             ]
            ],
            "type": "contour"
           }
          ],
          "contourcarpet": [
           {
            "colorbar": {
             "outlinewidth": 0,
             "ticks": ""
            },
            "type": "contourcarpet"
           }
          ],
          "heatmap": [
           {
            "colorbar": {
             "outlinewidth": 0,
             "ticks": ""
            },
            "colorscale": [
             [
              0,
              "#0d0887"
             ],
             [
              0.1111111111111111,
              "#46039f"
             ],
             [
              0.2222222222222222,
              "#7201a8"
             ],
             [
              0.3333333333333333,
              "#9c179e"
             ],
             [
              0.4444444444444444,
              "#bd3786"
             ],
             [
              0.5555555555555556,
              "#d8576b"
             ],
             [
              0.6666666666666666,
              "#ed7953"
             ],
             [
              0.7777777777777778,
              "#fb9f3a"
             ],
             [
              0.8888888888888888,
              "#fdca26"
             ],
             [
              1,
              "#f0f921"
             ]
            ],
            "type": "heatmap"
           }
          ],
          "heatmapgl": [
           {
            "colorbar": {
             "outlinewidth": 0,
             "ticks": ""
            },
            "colorscale": [
             [
              0,
              "#0d0887"
             ],
             [
              0.1111111111111111,
              "#46039f"
             ],
             [
              0.2222222222222222,
              "#7201a8"
             ],
             [
              0.3333333333333333,
              "#9c179e"
             ],
             [
              0.4444444444444444,
              "#bd3786"
             ],
             [
              0.5555555555555556,
              "#d8576b"
             ],
             [
              0.6666666666666666,
              "#ed7953"
             ],
             [
              0.7777777777777778,
              "#fb9f3a"
             ],
             [
              0.8888888888888888,
              "#fdca26"
             ],
             [
              1,
              "#f0f921"
             ]
            ],
            "type": "heatmapgl"
           }
          ],
          "histogram": [
           {
            "marker": {
             "pattern": {
              "fillmode": "overlay",
              "size": 10,
              "solidity": 0.2
             }
            },
            "type": "histogram"
           }
          ],
          "histogram2d": [
           {
            "colorbar": {
             "outlinewidth": 0,
             "ticks": ""
            },
            "colorscale": [
             [
              0,
              "#0d0887"
             ],
             [
              0.1111111111111111,
              "#46039f"
             ],
             [
              0.2222222222222222,
              "#7201a8"
             ],
             [
              0.3333333333333333,
              "#9c179e"
             ],
             [
              0.4444444444444444,
              "#bd3786"
             ],
             [
              0.5555555555555556,
              "#d8576b"
             ],
             [
              0.6666666666666666,
              "#ed7953"
             ],
             [
              0.7777777777777778,
              "#fb9f3a"
             ],
             [
              0.8888888888888888,
              "#fdca26"
             ],
             [
              1,
              "#f0f921"
             ]
            ],
            "type": "histogram2d"
           }
          ],
          "histogram2dcontour": [
           {
            "colorbar": {
             "outlinewidth": 0,
             "ticks": ""
            },
            "colorscale": [
             [
              0,
              "#0d0887"
             ],
             [
              0.1111111111111111,
              "#46039f"
             ],
             [
              0.2222222222222222,
              "#7201a8"
             ],
             [
              0.3333333333333333,
              "#9c179e"
             ],
             [
              0.4444444444444444,
              "#bd3786"
             ],
             [
              0.5555555555555556,
              "#d8576b"
             ],
             [
              0.6666666666666666,
              "#ed7953"
             ],
             [
              0.7777777777777778,
              "#fb9f3a"
             ],
             [
              0.8888888888888888,
              "#fdca26"
             ],
             [
              1,
              "#f0f921"
             ]
            ],
            "type": "histogram2dcontour"
           }
          ],
          "mesh3d": [
           {
            "colorbar": {
             "outlinewidth": 0,
             "ticks": ""
            },
            "type": "mesh3d"
           }
          ],
          "parcoords": [
           {
            "line": {
             "colorbar": {
              "outlinewidth": 0,
              "ticks": ""
             }
            },
            "type": "parcoords"
           }
          ],
          "pie": [
           {
            "automargin": true,
            "type": "pie"
           }
          ],
          "scatter": [
           {
            "fillpattern": {
             "fillmode": "overlay",
             "size": 10,
             "solidity": 0.2
            },
            "type": "scatter"
           }
          ],
          "scatter3d": [
           {
            "line": {
             "colorbar": {
              "outlinewidth": 0,
              "ticks": ""
             }
            },
            "marker": {
             "colorbar": {
              "outlinewidth": 0,
              "ticks": ""
             }
            },
            "type": "scatter3d"
           }
          ],
          "scattercarpet": [
           {
            "marker": {
             "colorbar": {
              "outlinewidth": 0,
              "ticks": ""
             }
            },
            "type": "scattercarpet"
           }
          ],
          "scattergeo": [
           {
            "marker": {
             "colorbar": {
              "outlinewidth": 0,
              "ticks": ""
             }
            },
            "type": "scattergeo"
           }
          ],
          "scattergl": [
           {
            "marker": {
             "colorbar": {
              "outlinewidth": 0,
              "ticks": ""
             }
            },
            "type": "scattergl"
           }
          ],
          "scattermapbox": [
           {
            "marker": {
             "colorbar": {
              "outlinewidth": 0,
              "ticks": ""
             }
            },
            "type": "scattermapbox"
           }
          ],
          "scatterpolar": [
           {
            "marker": {
             "colorbar": {
              "outlinewidth": 0,
              "ticks": ""
             }
            },
            "type": "scatterpolar"
           }
          ],
          "scatterpolargl": [
           {
            "marker": {
             "colorbar": {
              "outlinewidth": 0,
              "ticks": ""
             }
            },
            "type": "scatterpolargl"
           }
          ],
          "scatterternary": [
           {
            "marker": {
             "colorbar": {
              "outlinewidth": 0,
              "ticks": ""
             }
            },
            "type": "scatterternary"
           }
          ],
          "surface": [
           {
            "colorbar": {
             "outlinewidth": 0,
             "ticks": ""
            },
            "colorscale": [
             [
              0,
              "#0d0887"
             ],
             [
              0.1111111111111111,
              "#46039f"
             ],
             [
              0.2222222222222222,
              "#7201a8"
             ],
             [
              0.3333333333333333,
              "#9c179e"
             ],
             [
              0.4444444444444444,
              "#bd3786"
             ],
             [
              0.5555555555555556,
              "#d8576b"
             ],
             [
              0.6666666666666666,
              "#ed7953"
             ],
             [
              0.7777777777777778,
              "#fb9f3a"
             ],
             [
              0.8888888888888888,
              "#fdca26"
             ],
             [
              1,
              "#f0f921"
             ]
            ],
            "type": "surface"
           }
          ],
          "table": [
           {
            "cells": {
             "fill": {
              "color": "#EBF0F8"
             },
             "line": {
              "color": "white"
             }
            },
            "header": {
             "fill": {
              "color": "#C8D4E3"
             },
             "line": {
              "color": "white"
             }
            },
            "type": "table"
           }
          ]
         },
         "layout": {
          "annotationdefaults": {
           "arrowcolor": "#2a3f5f",
           "arrowhead": 0,
           "arrowwidth": 1
          },
          "autotypenumbers": "strict",
          "coloraxis": {
           "colorbar": {
            "outlinewidth": 0,
            "ticks": ""
           }
          },
          "colorscale": {
           "diverging": [
            [
             0,
             "#8e0152"
            ],
            [
             0.1,
             "#c51b7d"
            ],
            [
             0.2,
             "#de77ae"
            ],
            [
             0.3,
             "#f1b6da"
            ],
            [
             0.4,
             "#fde0ef"
            ],
            [
             0.5,
             "#f7f7f7"
            ],
            [
             0.6,
             "#e6f5d0"
            ],
            [
             0.7,
             "#b8e186"
            ],
            [
             0.8,
             "#7fbc41"
            ],
            [
             0.9,
             "#4d9221"
            ],
            [
             1,
             "#276419"
            ]
           ],
           "sequential": [
            [
             0,
             "#0d0887"
            ],
            [
             0.1111111111111111,
             "#46039f"
            ],
            [
             0.2222222222222222,
             "#7201a8"
            ],
            [
             0.3333333333333333,
             "#9c179e"
            ],
            [
             0.4444444444444444,
             "#bd3786"
            ],
            [
             0.5555555555555556,
             "#d8576b"
            ],
            [
             0.6666666666666666,
             "#ed7953"
            ],
            [
             0.7777777777777778,
             "#fb9f3a"
            ],
            [
             0.8888888888888888,
             "#fdca26"
            ],
            [
             1,
             "#f0f921"
            ]
           ],
           "sequentialminus": [
            [
             0,
             "#0d0887"
            ],
            [
             0.1111111111111111,
             "#46039f"
            ],
            [
             0.2222222222222222,
             "#7201a8"
            ],
            [
             0.3333333333333333,
             "#9c179e"
            ],
            [
             0.4444444444444444,
             "#bd3786"
            ],
            [
             0.5555555555555556,
             "#d8576b"
            ],
            [
             0.6666666666666666,
             "#ed7953"
            ],
            [
             0.7777777777777778,
             "#fb9f3a"
            ],
            [
             0.8888888888888888,
             "#fdca26"
            ],
            [
             1,
             "#f0f921"
            ]
           ]
          },
          "colorway": [
           "#636efa",
           "#EF553B",
           "#00cc96",
           "#ab63fa",
           "#FFA15A",
           "#19d3f3",
           "#FF6692",
           "#B6E880",
           "#FF97FF",
           "#FECB52"
          ],
          "font": {
           "color": "#2a3f5f"
          },
          "geo": {
           "bgcolor": "white",
           "lakecolor": "white",
           "landcolor": "#E5ECF6",
           "showlakes": true,
           "showland": true,
           "subunitcolor": "white"
          },
          "hoverlabel": {
           "align": "left"
          },
          "hovermode": "closest",
          "mapbox": {
           "style": "light"
          },
          "paper_bgcolor": "white",
          "plot_bgcolor": "#E5ECF6",
          "polar": {
           "angularaxis": {
            "gridcolor": "white",
            "linecolor": "white",
            "ticks": ""
           },
           "bgcolor": "#E5ECF6",
           "radialaxis": {
            "gridcolor": "white",
            "linecolor": "white",
            "ticks": ""
           }
          },
          "scene": {
           "xaxis": {
            "backgroundcolor": "#E5ECF6",
            "gridcolor": "white",
            "gridwidth": 2,
            "linecolor": "white",
            "showbackground": true,
            "ticks": "",
            "zerolinecolor": "white"
           },
           "yaxis": {
            "backgroundcolor": "#E5ECF6",
            "gridcolor": "white",
            "gridwidth": 2,
            "linecolor": "white",
            "showbackground": true,
            "ticks": "",
            "zerolinecolor": "white"
           },
           "zaxis": {
            "backgroundcolor": "#E5ECF6",
            "gridcolor": "white",
            "gridwidth": 2,
            "linecolor": "white",
            "showbackground": true,
            "ticks": "",
            "zerolinecolor": "white"
           }
          },
          "shapedefaults": {
           "line": {
            "color": "#2a3f5f"
           }
          },
          "ternary": {
           "aaxis": {
            "gridcolor": "white",
            "linecolor": "white",
            "ticks": ""
           },
           "baxis": {
            "gridcolor": "white",
            "linecolor": "white",
            "ticks": ""
           },
           "bgcolor": "#E5ECF6",
           "caxis": {
            "gridcolor": "white",
            "linecolor": "white",
            "ticks": ""
           }
          },
          "title": {
           "x": 0.05
          },
          "xaxis": {
           "automargin": true,
           "gridcolor": "white",
           "linecolor": "white",
           "ticks": "",
           "title": {
            "standoff": 15
           },
           "zerolinecolor": "white",
           "zerolinewidth": 2
          },
          "yaxis": {
           "automargin": true,
           "gridcolor": "white",
           "linecolor": "white",
           "ticks": "",
           "title": {
            "standoff": 15
           },
           "zerolinecolor": "white",
           "zerolinewidth": 2
          }
         }
        },
        "title": {
         "text": "Depression count"
        },
        "xaxis": {
         "anchor": "y",
         "domain": [
          0,
          1
         ],
         "title": {
          "text": "Predictions"
         }
        },
        "yaxis": {
         "anchor": "x",
         "domain": [
          0,
          1
         ],
         "title": {
          "text": "count"
         }
        }
       }
      }
     },
     "metadata": {},
     "output_type": "display_data"
    }
   ],
   "source": [
    "fig = px.bar(tweets_df, x=\"Predictions\", color='month', title=\"Depression count\")\n",
    "fig.show();"
   ]
  },
  {
   "cell_type": "code",
   "execution_count": 19,
   "id": "1162cefa",
   "metadata": {},
   "outputs": [
    {
     "data": {
      "text/plain": [
       "Predictions\n",
       "Non-Depression    71\n",
       "Depression         5\n",
       "dtype: int64"
      ]
     },
     "execution_count": 19,
     "metadata": {},
     "output_type": "execute_result"
    }
   ],
   "source": [
    "\n",
    "#df.loc[df['pop'] < 2.e6, 'country'] = 'Other countries' # Represent only large countries\n",
    "df = tweets_df.query(\"Predictions == 'Depression'\")\n",
    "depression_count = tweets_df.value_counts(\"Predictions\")\n",
    "#fig = px.pie(df, values='depression_count', title='Population of European continent')\n",
    "#fig.show()\n",
    "depression_count"
   ]
  },
  {
   "cell_type": "code",
   "execution_count": 20,
   "id": "e5f801d2",
   "metadata": {},
   "outputs": [
    {
     "data": {
      "application/vnd.plotly.v1+json": {
       "config": {
        "plotlyServerURL": "https://plot.ly"
       },
       "data": [
        {
         "alignmentgroup": "True",
         "hovertemplate": "Date_Created=%{x}<br>Predictions=%{y}<br>Predictions_Percentange=%{marker.color}<extra></extra>",
         "legendgroup": "",
         "marker": {
          "color": [
           0.9055042266845703,
           0.004487412981688976,
           0.11207006126642227,
           0.2606973946094513,
           0.09464627504348755,
           0.2797541320323944,
           0.3976430296897888,
           0.07256944477558136,
           0.24510619044303894,
           0.5671734809875488,
           0.19647416472434998,
           0.0013830766547471285,
           0.054839249700307846,
           0.03834407776594162,
           0.2606973946094513,
           0.2606973946094513
          ],
          "coloraxis": "coloraxis",
          "pattern": {
           "shape": ""
          }
         },
         "name": "",
         "offsetgroup": "",
         "orientation": "v",
         "showlegend": false,
         "textposition": "auto",
         "type": "bar",
         "x": [
          "2022-12-05T03:39:35+00:00",
          "2022-11-28T02:06:08+00:00",
          "2022-11-26T02:38:12+00:00",
          "2022-11-21T04:07:58+00:00",
          "2022-11-20T04:44:32+00:00",
          "2022-11-20T04:43:36+00:00",
          "2022-11-20T04:18:25+00:00",
          "2022-11-10T05:51:34+00:00",
          "2022-11-10T05:39:51+00:00",
          "2022-11-08T05:54:21+00:00",
          "2022-11-08T04:25:22+00:00",
          "2022-11-08T01:54:16+00:00",
          "2022-11-04T00:20:18+00:00",
          "2022-10-30T02:24:14+00:00",
          "2022-10-29T01:57:14+00:00",
          "2022-10-29T01:56:23+00:00"
         ],
         "xaxis": "x",
         "y": [
          "Depression",
          "Non-Depression",
          "Non-Depression",
          "Non-Depression",
          "Non-Depression",
          "Non-Depression",
          "Non-Depression",
          "Non-Depression",
          "Non-Depression",
          "Depression",
          "Non-Depression",
          "Non-Depression",
          "Non-Depression",
          "Non-Depression",
          "Non-Depression",
          "Non-Depression"
         ],
         "yaxis": "y"
        }
       ],
       "layout": {
        "barmode": "relative",
        "coloraxis": {
         "colorbar": {
          "title": {
           "text": "Predictions_Percentange"
          }
         },
         "colorscale": [
          [
           0,
           "#0d0887"
          ],
          [
           0.1111111111111111,
           "#46039f"
          ],
          [
           0.2222222222222222,
           "#7201a8"
          ],
          [
           0.3333333333333333,
           "#9c179e"
          ],
          [
           0.4444444444444444,
           "#bd3786"
          ],
          [
           0.5555555555555556,
           "#d8576b"
          ],
          [
           0.6666666666666666,
           "#ed7953"
          ],
          [
           0.7777777777777778,
           "#fb9f3a"
          ],
          [
           0.8888888888888888,
           "#fdca26"
          ],
          [
           1,
           "#f0f921"
          ]
         ]
        },
        "height": 400,
        "legend": {
         "tracegroupgap": 0
        },
        "margin": {
         "t": 60
        },
        "template": {
         "data": {
          "bar": [
           {
            "error_x": {
             "color": "#2a3f5f"
            },
            "error_y": {
             "color": "#2a3f5f"
            },
            "marker": {
             "line": {
              "color": "#E5ECF6",
              "width": 0.5
             },
             "pattern": {
              "fillmode": "overlay",
              "size": 10,
              "solidity": 0.2
             }
            },
            "type": "bar"
           }
          ],
          "barpolar": [
           {
            "marker": {
             "line": {
              "color": "#E5ECF6",
              "width": 0.5
             },
             "pattern": {
              "fillmode": "overlay",
              "size": 10,
              "solidity": 0.2
             }
            },
            "type": "barpolar"
           }
          ],
          "carpet": [
           {
            "aaxis": {
             "endlinecolor": "#2a3f5f",
             "gridcolor": "white",
             "linecolor": "white",
             "minorgridcolor": "white",
             "startlinecolor": "#2a3f5f"
            },
            "baxis": {
             "endlinecolor": "#2a3f5f",
             "gridcolor": "white",
             "linecolor": "white",
             "minorgridcolor": "white",
             "startlinecolor": "#2a3f5f"
            },
            "type": "carpet"
           }
          ],
          "choropleth": [
           {
            "colorbar": {
             "outlinewidth": 0,
             "ticks": ""
            },
            "type": "choropleth"
           }
          ],
          "contour": [
           {
            "colorbar": {
             "outlinewidth": 0,
             "ticks": ""
            },
            "colorscale": [
             [
              0,
              "#0d0887"
             ],
             [
              0.1111111111111111,
              "#46039f"
             ],
             [
              0.2222222222222222,
              "#7201a8"
             ],
             [
              0.3333333333333333,
              "#9c179e"
             ],
             [
              0.4444444444444444,
              "#bd3786"
             ],
             [
              0.5555555555555556,
              "#d8576b"
             ],
             [
              0.6666666666666666,
              "#ed7953"
             ],
             [
              0.7777777777777778,
              "#fb9f3a"
             ],
             [
              0.8888888888888888,
              "#fdca26"
             ],
             [
              1,
              "#f0f921"
             ]
            ],
            "type": "contour"
           }
          ],
          "contourcarpet": [
           {
            "colorbar": {
             "outlinewidth": 0,
             "ticks": ""
            },
            "type": "contourcarpet"
           }
          ],
          "heatmap": [
           {
            "colorbar": {
             "outlinewidth": 0,
             "ticks": ""
            },
            "colorscale": [
             [
              0,
              "#0d0887"
             ],
             [
              0.1111111111111111,
              "#46039f"
             ],
             [
              0.2222222222222222,
              "#7201a8"
             ],
             [
              0.3333333333333333,
              "#9c179e"
             ],
             [
              0.4444444444444444,
              "#bd3786"
             ],
             [
              0.5555555555555556,
              "#d8576b"
             ],
             [
              0.6666666666666666,
              "#ed7953"
             ],
             [
              0.7777777777777778,
              "#fb9f3a"
             ],
             [
              0.8888888888888888,
              "#fdca26"
             ],
             [
              1,
              "#f0f921"
             ]
            ],
            "type": "heatmap"
           }
          ],
          "heatmapgl": [
           {
            "colorbar": {
             "outlinewidth": 0,
             "ticks": ""
            },
            "colorscale": [
             [
              0,
              "#0d0887"
             ],
             [
              0.1111111111111111,
              "#46039f"
             ],
             [
              0.2222222222222222,
              "#7201a8"
             ],
             [
              0.3333333333333333,
              "#9c179e"
             ],
             [
              0.4444444444444444,
              "#bd3786"
             ],
             [
              0.5555555555555556,
              "#d8576b"
             ],
             [
              0.6666666666666666,
              "#ed7953"
             ],
             [
              0.7777777777777778,
              "#fb9f3a"
             ],
             [
              0.8888888888888888,
              "#fdca26"
             ],
             [
              1,
              "#f0f921"
             ]
            ],
            "type": "heatmapgl"
           }
          ],
          "histogram": [
           {
            "marker": {
             "pattern": {
              "fillmode": "overlay",
              "size": 10,
              "solidity": 0.2
             }
            },
            "type": "histogram"
           }
          ],
          "histogram2d": [
           {
            "colorbar": {
             "outlinewidth": 0,
             "ticks": ""
            },
            "colorscale": [
             [
              0,
              "#0d0887"
             ],
             [
              0.1111111111111111,
              "#46039f"
             ],
             [
              0.2222222222222222,
              "#7201a8"
             ],
             [
              0.3333333333333333,
              "#9c179e"
             ],
             [
              0.4444444444444444,
              "#bd3786"
             ],
             [
              0.5555555555555556,
              "#d8576b"
             ],
             [
              0.6666666666666666,
              "#ed7953"
             ],
             [
              0.7777777777777778,
              "#fb9f3a"
             ],
             [
              0.8888888888888888,
              "#fdca26"
             ],
             [
              1,
              "#f0f921"
             ]
            ],
            "type": "histogram2d"
           }
          ],
          "histogram2dcontour": [
           {
            "colorbar": {
             "outlinewidth": 0,
             "ticks": ""
            },
            "colorscale": [
             [
              0,
              "#0d0887"
             ],
             [
              0.1111111111111111,
              "#46039f"
             ],
             [
              0.2222222222222222,
              "#7201a8"
             ],
             [
              0.3333333333333333,
              "#9c179e"
             ],
             [
              0.4444444444444444,
              "#bd3786"
             ],
             [
              0.5555555555555556,
              "#d8576b"
             ],
             [
              0.6666666666666666,
              "#ed7953"
             ],
             [
              0.7777777777777778,
              "#fb9f3a"
             ],
             [
              0.8888888888888888,
              "#fdca26"
             ],
             [
              1,
              "#f0f921"
             ]
            ],
            "type": "histogram2dcontour"
           }
          ],
          "mesh3d": [
           {
            "colorbar": {
             "outlinewidth": 0,
             "ticks": ""
            },
            "type": "mesh3d"
           }
          ],
          "parcoords": [
           {
            "line": {
             "colorbar": {
              "outlinewidth": 0,
              "ticks": ""
             }
            },
            "type": "parcoords"
           }
          ],
          "pie": [
           {
            "automargin": true,
            "type": "pie"
           }
          ],
          "scatter": [
           {
            "fillpattern": {
             "fillmode": "overlay",
             "size": 10,
             "solidity": 0.2
            },
            "type": "scatter"
           }
          ],
          "scatter3d": [
           {
            "line": {
             "colorbar": {
              "outlinewidth": 0,
              "ticks": ""
             }
            },
            "marker": {
             "colorbar": {
              "outlinewidth": 0,
              "ticks": ""
             }
            },
            "type": "scatter3d"
           }
          ],
          "scattercarpet": [
           {
            "marker": {
             "colorbar": {
              "outlinewidth": 0,
              "ticks": ""
             }
            },
            "type": "scattercarpet"
           }
          ],
          "scattergeo": [
           {
            "marker": {
             "colorbar": {
              "outlinewidth": 0,
              "ticks": ""
             }
            },
            "type": "scattergeo"
           }
          ],
          "scattergl": [
           {
            "marker": {
             "colorbar": {
              "outlinewidth": 0,
              "ticks": ""
             }
            },
            "type": "scattergl"
           }
          ],
          "scattermapbox": [
           {
            "marker": {
             "colorbar": {
              "outlinewidth": 0,
              "ticks": ""
             }
            },
            "type": "scattermapbox"
           }
          ],
          "scatterpolar": [
           {
            "marker": {
             "colorbar": {
              "outlinewidth": 0,
              "ticks": ""
             }
            },
            "type": "scatterpolar"
           }
          ],
          "scatterpolargl": [
           {
            "marker": {
             "colorbar": {
              "outlinewidth": 0,
              "ticks": ""
             }
            },
            "type": "scatterpolargl"
           }
          ],
          "scatterternary": [
           {
            "marker": {
             "colorbar": {
              "outlinewidth": 0,
              "ticks": ""
             }
            },
            "type": "scatterternary"
           }
          ],
          "surface": [
           {
            "colorbar": {
             "outlinewidth": 0,
             "ticks": ""
            },
            "colorscale": [
             [
              0,
              "#0d0887"
             ],
             [
              0.1111111111111111,
              "#46039f"
             ],
             [
              0.2222222222222222,
              "#7201a8"
             ],
             [
              0.3333333333333333,
              "#9c179e"
             ],
             [
              0.4444444444444444,
              "#bd3786"
             ],
             [
              0.5555555555555556,
              "#d8576b"
             ],
             [
              0.6666666666666666,
              "#ed7953"
             ],
             [
              0.7777777777777778,
              "#fb9f3a"
             ],
             [
              0.8888888888888888,
              "#fdca26"
             ],
             [
              1,
              "#f0f921"
             ]
            ],
            "type": "surface"
           }
          ],
          "table": [
           {
            "cells": {
             "fill": {
              "color": "#EBF0F8"
             },
             "line": {
              "color": "white"
             }
            },
            "header": {
             "fill": {
              "color": "#C8D4E3"
             },
             "line": {
              "color": "white"
             }
            },
            "type": "table"
           }
          ]
         },
         "layout": {
          "annotationdefaults": {
           "arrowcolor": "#2a3f5f",
           "arrowhead": 0,
           "arrowwidth": 1
          },
          "autotypenumbers": "strict",
          "coloraxis": {
           "colorbar": {
            "outlinewidth": 0,
            "ticks": ""
           }
          },
          "colorscale": {
           "diverging": [
            [
             0,
             "#8e0152"
            ],
            [
             0.1,
             "#c51b7d"
            ],
            [
             0.2,
             "#de77ae"
            ],
            [
             0.3,
             "#f1b6da"
            ],
            [
             0.4,
             "#fde0ef"
            ],
            [
             0.5,
             "#f7f7f7"
            ],
            [
             0.6,
             "#e6f5d0"
            ],
            [
             0.7,
             "#b8e186"
            ],
            [
             0.8,
             "#7fbc41"
            ],
            [
             0.9,
             "#4d9221"
            ],
            [
             1,
             "#276419"
            ]
           ],
           "sequential": [
            [
             0,
             "#0d0887"
            ],
            [
             0.1111111111111111,
             "#46039f"
            ],
            [
             0.2222222222222222,
             "#7201a8"
            ],
            [
             0.3333333333333333,
             "#9c179e"
            ],
            [
             0.4444444444444444,
             "#bd3786"
            ],
            [
             0.5555555555555556,
             "#d8576b"
            ],
            [
             0.6666666666666666,
             "#ed7953"
            ],
            [
             0.7777777777777778,
             "#fb9f3a"
            ],
            [
             0.8888888888888888,
             "#fdca26"
            ],
            [
             1,
             "#f0f921"
            ]
           ],
           "sequentialminus": [
            [
             0,
             "#0d0887"
            ],
            [
             0.1111111111111111,
             "#46039f"
            ],
            [
             0.2222222222222222,
             "#7201a8"
            ],
            [
             0.3333333333333333,
             "#9c179e"
            ],
            [
             0.4444444444444444,
             "#bd3786"
            ],
            [
             0.5555555555555556,
             "#d8576b"
            ],
            [
             0.6666666666666666,
             "#ed7953"
            ],
            [
             0.7777777777777778,
             "#fb9f3a"
            ],
            [
             0.8888888888888888,
             "#fdca26"
            ],
            [
             1,
             "#f0f921"
            ]
           ]
          },
          "colorway": [
           "#636efa",
           "#EF553B",
           "#00cc96",
           "#ab63fa",
           "#FFA15A",
           "#19d3f3",
           "#FF6692",
           "#B6E880",
           "#FF97FF",
           "#FECB52"
          ],
          "font": {
           "color": "#2a3f5f"
          },
          "geo": {
           "bgcolor": "white",
           "lakecolor": "white",
           "landcolor": "#E5ECF6",
           "showlakes": true,
           "showland": true,
           "subunitcolor": "white"
          },
          "hoverlabel": {
           "align": "left"
          },
          "hovermode": "closest",
          "mapbox": {
           "style": "light"
          },
          "paper_bgcolor": "white",
          "plot_bgcolor": "#E5ECF6",
          "polar": {
           "angularaxis": {
            "gridcolor": "white",
            "linecolor": "white",
            "ticks": ""
           },
           "bgcolor": "#E5ECF6",
           "radialaxis": {
            "gridcolor": "white",
            "linecolor": "white",
            "ticks": ""
           }
          },
          "scene": {
           "xaxis": {
            "backgroundcolor": "#E5ECF6",
            "gridcolor": "white",
            "gridwidth": 2,
            "linecolor": "white",
            "showbackground": true,
            "ticks": "",
            "zerolinecolor": "white"
           },
           "yaxis": {
            "backgroundcolor": "#E5ECF6",
            "gridcolor": "white",
            "gridwidth": 2,
            "linecolor": "white",
            "showbackground": true,
            "ticks": "",
            "zerolinecolor": "white"
           },
           "zaxis": {
            "backgroundcolor": "#E5ECF6",
            "gridcolor": "white",
            "gridwidth": 2,
            "linecolor": "white",
            "showbackground": true,
            "ticks": "",
            "zerolinecolor": "white"
           }
          },
          "shapedefaults": {
           "line": {
            "color": "#2a3f5f"
           }
          },
          "ternary": {
           "aaxis": {
            "gridcolor": "white",
            "linecolor": "white",
            "ticks": ""
           },
           "baxis": {
            "gridcolor": "white",
            "linecolor": "white",
            "ticks": ""
           },
           "bgcolor": "#E5ECF6",
           "caxis": {
            "gridcolor": "white",
            "linecolor": "white",
            "ticks": ""
           }
          },
          "title": {
           "x": 0.05
          },
          "xaxis": {
           "automargin": true,
           "gridcolor": "white",
           "linecolor": "white",
           "ticks": "",
           "title": {
            "standoff": 15
           },
           "zerolinecolor": "white",
           "zerolinewidth": 2
          },
          "yaxis": {
           "automargin": true,
           "gridcolor": "white",
           "linecolor": "white",
           "ticks": "",
           "title": {
            "standoff": 15
           },
           "zerolinecolor": "white",
           "zerolinewidth": 2
          }
         }
        },
        "xaxis": {
         "anchor": "y",
         "domain": [
          0,
          1
         ],
         "title": {
          "text": "Date_Created"
         }
        },
        "yaxis": {
         "anchor": "x",
         "domain": [
          0,
          1
         ],
         "title": {
          "text": "Predictions"
         }
        }
       }
      }
     },
     "metadata": {},
     "output_type": "display_data"
    }
   ],
   "source": [
    "df = midnight_df\n",
    "fig = px.bar(df, x='Date_Created', y='Predictions', color='Predictions_Percentange',\n",
    "             labels={'pop':'population of Canada'}, height=400)\n",
    "fig.show()"
   ]
  },
  {
   "cell_type": "markdown",
   "id": "dd30796d",
   "metadata": {},
   "source": [
    "## We want to take a look for the daily tweets of the user to see when the user is tweeting regularly and when his mood going low"
   ]
  },
  {
   "cell_type": "code",
   "execution_count": 21,
   "id": "32c91477",
   "metadata": {},
   "outputs": [
    {
     "data": {
      "application/vnd.plotly.v1+json": {
       "config": {
        "plotlyServerURL": "https://plot.ly"
       },
       "data": [
        {
         "domain": {
          "x": [
           0,
           1
          ],
          "y": [
           0,
           1
          ]
         },
         "hovertemplate": "Tweets=%{label}<br>Predictions=%{value}<extra></extra>",
         "labels": [
          "Let the game begin https://t.co/whtlA9hwPd",
          "Souls games players: https://t.co/2uR07dTGJH",
          "@TeosGame Doom 2",
          "@LeZeldaa God of war 1 https://t.co/DnhNmX9Vaw",
          "@HabisMazin The journey begins NOW? I THOUGHT I REACHED THE END IF I SAY THAT",
          "https://t.co/TXrLD51hNC",
          "@Dessppreso @Nojoudishealing https://t.co/2qSNRg17DZ",
          "@HIMIX_1 اقول لك اطلع انا برا يله بس ساعه",
          "@nurrrttt @SKJaay Alriiight He can join our mid night talks",
          "@Gabimaruuuuu ونعم",
          "@Dessppreso Buy him",
          "زنقة الكلاب مود اكتفيتد",
          "@SKJaay Touch grass",
          "@Gabimaruuuuu I ship",
          "@EnceladusStar Oh hell yea i’ve listened to every song on the train",
          "@7lebMoz خل عرادي يغششك مره ثانيه",
          "@noiamnotshe Oof why",
          "@7lebMoz Oh fuck off",
          "@7lebMoz Oh like it’s the fucking first time fuck off",
          "@SKJaay Ian… get it? Cause you’re a game? People play YOU?? G- get it?",
          "@SowrAII @Dessppreso الوه",
          "@7lebMoz كيوت حتى كتب لك اسم ولد ايلون ماسك Æ",
          "@7lebMoz BURN DOWN THE WITCH",
          "@nurrrttt Oh wow",
          "@LeZeldaa https://t.co/wmaiydkfhl",
          "@Mohxox اخ اخ اخ اخ",
          "@HabisMazin Is he going to prom?",
          "@7lebMoz https://t.co/BSfKR9EmF0",
          "@7lebMoz piece* hehehehehehehehhe",
          "@Ba6a6asa No",
          "@nurrrttt Thank you babe",
          "@AnasHuman0 @zRaashed Dang bro that’s deep",
          "@noiamnotshe https://t.co/UD5WZA6tl4",
          "لا لا مهما تذمرت الدنيا حلوه بعد الاخبار الجميله الي سمعتها.",
          "يا زين الشتاء، صح انك بتقعد بكلاسك تفكر وش سويت غلط عشان توصل لذي الحاله بس على الاقل مبتسم وانت في الطريق.",
          "@HIMIX_1 ❤️❤️",
          "@HIMIX_1 You’re old as shit congratulations",
          "@SKJaay Ofc broda z3tr or cheese?",
          "@SKJaay Got me some tea and some pastries. Life is beautiful.",
          "@HabisMazin https://t.co/6pdIPSgyTY",
          "Good morning. Today just seems a little brighter. 🏃‍♂️❤️",
          "@qaddnv وزينووووووه",
          "@7lebMoz https://t.co/5XMAVZNHgE",
          "@nurrrttt Gimme your ig we goin there",
          "@nurrrttt @Dessppreso NAH HE SPOKE ARABIC ITS THE END",
          "@elonmusk What up",
          "@7lebMoz i agree",
          "@lIEvvaa شكلك حملتي مادة",
          "@naosayshi Np np",
          "@naosayshi It’s your page. you could talk about how you saw a cloud shaped like a rat and it’d still be ok say whatever you want haha",
          "@naosayshi That’s of course if you care, if you just want your shift to be done and don’t give the slightest care about the employees you work with then yea just do your job don’t talk",
          "@naosayshi Oh social expectations, nope you don’t need to do it but if your employees expect it just listen to them and throw little comments to make them feel like you’re there,  it doesn’t need to be a full on conversation. That’s what i do anyways",
          "@naosayshi Does your profession require you to be social ans communicating? Cause some jobs don’t and i’d understand your concern if you’re in law or medicine those require you to not shut the fuck up",
          "@naosayshi What is your profession?",
          "@naosayshi Oh come on",
          "@EnceladusStar I HEARD THAT YOU’RE HAPPY WITHOUT ME AND I HOPE ITS TRUEEEEE",
          "@noiamnotshe Aight",
          "@naosayshi Thank youu i hope that for you too",
          "@Supresa_Sa 😂😂😂😂",
          "Yall confused as fuck in these troubled times, remember your morals, traditions and religion again and then come back.",
          "@naosayshi Ah may Allah be with you then 😭😭",
          "@naosayshi Been there, i choose to not socialize.",
          "@Ponyo_TTV You see i told you, you’re a freak",
          "@Gabimaruuuuu Yes",
          "@nurrrttt Yum",
          "@7lebMoz Dude what’s the pic on the background",
          "@7lebMoz You won’t last a day",
          "@Ponyo_TTV You’re a freak i can smell it",
          "@Ponyo_TTV I DUNNO YOU CAN BE A PSYCHOPATH I HAVE A SENSOR FOR THAT",
          "@Ponyo_TTV I mean I wouldn’t be surprised tbh but welcome back! 😭",
          "@Ponyo_TTV Discharged? Did you commit crime?",
          "خل نخلي هذا اول تويته https://t.co/jZgTnMSYwP",
          "@7lebMoz Anatomy",
          "@doppyisfree شكلك ما تلعبين فل تيم",
          "@doppyisfree هارد ستك بلات دي بي اس بالخدمه",
          "@doppyisfree وصلت الايلو هيل والظاهر بترك اللعبه"
         ],
         "legendgroup": "",
         "name": "",
         "showlegend": true,
         "type": "pie",
         "values": [
          "Non-Depression",
          "Non-Depression",
          "Non-Depression",
          "Non-Depression",
          "Depression",
          "Non-Depression",
          "Non-Depression",
          "Non-Depression",
          "Non-Depression",
          "Non-Depression",
          "Non-Depression",
          "Non-Depression",
          "Non-Depression",
          "Non-Depression",
          "Non-Depression",
          "Non-Depression",
          "Non-Depression",
          "Non-Depression",
          "Non-Depression",
          "Non-Depression",
          "Non-Depression",
          "Non-Depression",
          "Non-Depression",
          "Non-Depression",
          "Non-Depression",
          "Non-Depression",
          "Non-Depression",
          "Non-Depression",
          "Non-Depression",
          "Non-Depression",
          "Non-Depression",
          "Non-Depression",
          "Non-Depression",
          "Non-Depression",
          "Non-Depression",
          "Non-Depression",
          "Non-Depression",
          "Non-Depression",
          "Non-Depression",
          "Non-Depression",
          "Non-Depression",
          "Non-Depression",
          "Non-Depression",
          "Non-Depression",
          "Non-Depression",
          "Non-Depression",
          "Non-Depression",
          "Non-Depression",
          "Non-Depression",
          "Non-Depression",
          "Depression",
          "Non-Depression",
          "Non-Depression",
          "Non-Depression",
          "Non-Depression",
          "Depression",
          "Non-Depression",
          "Depression",
          "Non-Depression",
          "Non-Depression",
          "Non-Depression",
          "Non-Depression",
          "Depression",
          "Non-Depression",
          "Non-Depression",
          "Non-Depression",
          "Non-Depression",
          "Non-Depression",
          "Non-Depression",
          "Non-Depression",
          "Non-Depression",
          "Non-Depression",
          "Non-Depression",
          "Non-Depression",
          "Non-Depression",
          "Non-Depression"
         ]
        }
       ],
       "layout": {
        "legend": {
         "tracegroupgap": 0
        },
        "template": {
         "data": {
          "bar": [
           {
            "error_x": {
             "color": "#2a3f5f"
            },
            "error_y": {
             "color": "#2a3f5f"
            },
            "marker": {
             "line": {
              "color": "#E5ECF6",
              "width": 0.5
             },
             "pattern": {
              "fillmode": "overlay",
              "size": 10,
              "solidity": 0.2
             }
            },
            "type": "bar"
           }
          ],
          "barpolar": [
           {
            "marker": {
             "line": {
              "color": "#E5ECF6",
              "width": 0.5
             },
             "pattern": {
              "fillmode": "overlay",
              "size": 10,
              "solidity": 0.2
             }
            },
            "type": "barpolar"
           }
          ],
          "carpet": [
           {
            "aaxis": {
             "endlinecolor": "#2a3f5f",
             "gridcolor": "white",
             "linecolor": "white",
             "minorgridcolor": "white",
             "startlinecolor": "#2a3f5f"
            },
            "baxis": {
             "endlinecolor": "#2a3f5f",
             "gridcolor": "white",
             "linecolor": "white",
             "minorgridcolor": "white",
             "startlinecolor": "#2a3f5f"
            },
            "type": "carpet"
           }
          ],
          "choropleth": [
           {
            "colorbar": {
             "outlinewidth": 0,
             "ticks": ""
            },
            "type": "choropleth"
           }
          ],
          "contour": [
           {
            "colorbar": {
             "outlinewidth": 0,
             "ticks": ""
            },
            "colorscale": [
             [
              0,
              "#0d0887"
             ],
             [
              0.1111111111111111,
              "#46039f"
             ],
             [
              0.2222222222222222,
              "#7201a8"
             ],
             [
              0.3333333333333333,
              "#9c179e"
             ],
             [
              0.4444444444444444,
              "#bd3786"
             ],
             [
              0.5555555555555556,
              "#d8576b"
             ],
             [
              0.6666666666666666,
              "#ed7953"
             ],
             [
              0.7777777777777778,
              "#fb9f3a"
             ],
             [
              0.8888888888888888,
              "#fdca26"
             ],
             [
              1,
              "#f0f921"
             ]
            ],
            "type": "contour"
           }
          ],
          "contourcarpet": [
           {
            "colorbar": {
             "outlinewidth": 0,
             "ticks": ""
            },
            "type": "contourcarpet"
           }
          ],
          "heatmap": [
           {
            "colorbar": {
             "outlinewidth": 0,
             "ticks": ""
            },
            "colorscale": [
             [
              0,
              "#0d0887"
             ],
             [
              0.1111111111111111,
              "#46039f"
             ],
             [
              0.2222222222222222,
              "#7201a8"
             ],
             [
              0.3333333333333333,
              "#9c179e"
             ],
             [
              0.4444444444444444,
              "#bd3786"
             ],
             [
              0.5555555555555556,
              "#d8576b"
             ],
             [
              0.6666666666666666,
              "#ed7953"
             ],
             [
              0.7777777777777778,
              "#fb9f3a"
             ],
             [
              0.8888888888888888,
              "#fdca26"
             ],
             [
              1,
              "#f0f921"
             ]
            ],
            "type": "heatmap"
           }
          ],
          "heatmapgl": [
           {
            "colorbar": {
             "outlinewidth": 0,
             "ticks": ""
            },
            "colorscale": [
             [
              0,
              "#0d0887"
             ],
             [
              0.1111111111111111,
              "#46039f"
             ],
             [
              0.2222222222222222,
              "#7201a8"
             ],
             [
              0.3333333333333333,
              "#9c179e"
             ],
             [
              0.4444444444444444,
              "#bd3786"
             ],
             [
              0.5555555555555556,
              "#d8576b"
             ],
             [
              0.6666666666666666,
              "#ed7953"
             ],
             [
              0.7777777777777778,
              "#fb9f3a"
             ],
             [
              0.8888888888888888,
              "#fdca26"
             ],
             [
              1,
              "#f0f921"
             ]
            ],
            "type": "heatmapgl"
           }
          ],
          "histogram": [
           {
            "marker": {
             "pattern": {
              "fillmode": "overlay",
              "size": 10,
              "solidity": 0.2
             }
            },
            "type": "histogram"
           }
          ],
          "histogram2d": [
           {
            "colorbar": {
             "outlinewidth": 0,
             "ticks": ""
            },
            "colorscale": [
             [
              0,
              "#0d0887"
             ],
             [
              0.1111111111111111,
              "#46039f"
             ],
             [
              0.2222222222222222,
              "#7201a8"
             ],
             [
              0.3333333333333333,
              "#9c179e"
             ],
             [
              0.4444444444444444,
              "#bd3786"
             ],
             [
              0.5555555555555556,
              "#d8576b"
             ],
             [
              0.6666666666666666,
              "#ed7953"
             ],
             [
              0.7777777777777778,
              "#fb9f3a"
             ],
             [
              0.8888888888888888,
              "#fdca26"
             ],
             [
              1,
              "#f0f921"
             ]
            ],
            "type": "histogram2d"
           }
          ],
          "histogram2dcontour": [
           {
            "colorbar": {
             "outlinewidth": 0,
             "ticks": ""
            },
            "colorscale": [
             [
              0,
              "#0d0887"
             ],
             [
              0.1111111111111111,
              "#46039f"
             ],
             [
              0.2222222222222222,
              "#7201a8"
             ],
             [
              0.3333333333333333,
              "#9c179e"
             ],
             [
              0.4444444444444444,
              "#bd3786"
             ],
             [
              0.5555555555555556,
              "#d8576b"
             ],
             [
              0.6666666666666666,
              "#ed7953"
             ],
             [
              0.7777777777777778,
              "#fb9f3a"
             ],
             [
              0.8888888888888888,
              "#fdca26"
             ],
             [
              1,
              "#f0f921"
             ]
            ],
            "type": "histogram2dcontour"
           }
          ],
          "mesh3d": [
           {
            "colorbar": {
             "outlinewidth": 0,
             "ticks": ""
            },
            "type": "mesh3d"
           }
          ],
          "parcoords": [
           {
            "line": {
             "colorbar": {
              "outlinewidth": 0,
              "ticks": ""
             }
            },
            "type": "parcoords"
           }
          ],
          "pie": [
           {
            "automargin": true,
            "type": "pie"
           }
          ],
          "scatter": [
           {
            "fillpattern": {
             "fillmode": "overlay",
             "size": 10,
             "solidity": 0.2
            },
            "type": "scatter"
           }
          ],
          "scatter3d": [
           {
            "line": {
             "colorbar": {
              "outlinewidth": 0,
              "ticks": ""
             }
            },
            "marker": {
             "colorbar": {
              "outlinewidth": 0,
              "ticks": ""
             }
            },
            "type": "scatter3d"
           }
          ],
          "scattercarpet": [
           {
            "marker": {
             "colorbar": {
              "outlinewidth": 0,
              "ticks": ""
             }
            },
            "type": "scattercarpet"
           }
          ],
          "scattergeo": [
           {
            "marker": {
             "colorbar": {
              "outlinewidth": 0,
              "ticks": ""
             }
            },
            "type": "scattergeo"
           }
          ],
          "scattergl": [
           {
            "marker": {
             "colorbar": {
              "outlinewidth": 0,
              "ticks": ""
             }
            },
            "type": "scattergl"
           }
          ],
          "scattermapbox": [
           {
            "marker": {
             "colorbar": {
              "outlinewidth": 0,
              "ticks": ""
             }
            },
            "type": "scattermapbox"
           }
          ],
          "scatterpolar": [
           {
            "marker": {
             "colorbar": {
              "outlinewidth": 0,
              "ticks": ""
             }
            },
            "type": "scatterpolar"
           }
          ],
          "scatterpolargl": [
           {
            "marker": {
             "colorbar": {
              "outlinewidth": 0,
              "ticks": ""
             }
            },
            "type": "scatterpolargl"
           }
          ],
          "scatterternary": [
           {
            "marker": {
             "colorbar": {
              "outlinewidth": 0,
              "ticks": ""
             }
            },
            "type": "scatterternary"
           }
          ],
          "surface": [
           {
            "colorbar": {
             "outlinewidth": 0,
             "ticks": ""
            },
            "colorscale": [
             [
              0,
              "#0d0887"
             ],
             [
              0.1111111111111111,
              "#46039f"
             ],
             [
              0.2222222222222222,
              "#7201a8"
             ],
             [
              0.3333333333333333,
              "#9c179e"
             ],
             [
              0.4444444444444444,
              "#bd3786"
             ],
             [
              0.5555555555555556,
              "#d8576b"
             ],
             [
              0.6666666666666666,
              "#ed7953"
             ],
             [
              0.7777777777777778,
              "#fb9f3a"
             ],
             [
              0.8888888888888888,
              "#fdca26"
             ],
             [
              1,
              "#f0f921"
             ]
            ],
            "type": "surface"
           }
          ],
          "table": [
           {
            "cells": {
             "fill": {
              "color": "#EBF0F8"
             },
             "line": {
              "color": "white"
             }
            },
            "header": {
             "fill": {
              "color": "#C8D4E3"
             },
             "line": {
              "color": "white"
             }
            },
            "type": "table"
           }
          ]
         },
         "layout": {
          "annotationdefaults": {
           "arrowcolor": "#2a3f5f",
           "arrowhead": 0,
           "arrowwidth": 1
          },
          "autotypenumbers": "strict",
          "coloraxis": {
           "colorbar": {
            "outlinewidth": 0,
            "ticks": ""
           }
          },
          "colorscale": {
           "diverging": [
            [
             0,
             "#8e0152"
            ],
            [
             0.1,
             "#c51b7d"
            ],
            [
             0.2,
             "#de77ae"
            ],
            [
             0.3,
             "#f1b6da"
            ],
            [
             0.4,
             "#fde0ef"
            ],
            [
             0.5,
             "#f7f7f7"
            ],
            [
             0.6,
             "#e6f5d0"
            ],
            [
             0.7,
             "#b8e186"
            ],
            [
             0.8,
             "#7fbc41"
            ],
            [
             0.9,
             "#4d9221"
            ],
            [
             1,
             "#276419"
            ]
           ],
           "sequential": [
            [
             0,
             "#0d0887"
            ],
            [
             0.1111111111111111,
             "#46039f"
            ],
            [
             0.2222222222222222,
             "#7201a8"
            ],
            [
             0.3333333333333333,
             "#9c179e"
            ],
            [
             0.4444444444444444,
             "#bd3786"
            ],
            [
             0.5555555555555556,
             "#d8576b"
            ],
            [
             0.6666666666666666,
             "#ed7953"
            ],
            [
             0.7777777777777778,
             "#fb9f3a"
            ],
            [
             0.8888888888888888,
             "#fdca26"
            ],
            [
             1,
             "#f0f921"
            ]
           ],
           "sequentialminus": [
            [
             0,
             "#0d0887"
            ],
            [
             0.1111111111111111,
             "#46039f"
            ],
            [
             0.2222222222222222,
             "#7201a8"
            ],
            [
             0.3333333333333333,
             "#9c179e"
            ],
            [
             0.4444444444444444,
             "#bd3786"
            ],
            [
             0.5555555555555556,
             "#d8576b"
            ],
            [
             0.6666666666666666,
             "#ed7953"
            ],
            [
             0.7777777777777778,
             "#fb9f3a"
            ],
            [
             0.8888888888888888,
             "#fdca26"
            ],
            [
             1,
             "#f0f921"
            ]
           ]
          },
          "colorway": [
           "#636efa",
           "#EF553B",
           "#00cc96",
           "#ab63fa",
           "#FFA15A",
           "#19d3f3",
           "#FF6692",
           "#B6E880",
           "#FF97FF",
           "#FECB52"
          ],
          "font": {
           "color": "#2a3f5f"
          },
          "geo": {
           "bgcolor": "white",
           "lakecolor": "white",
           "landcolor": "#E5ECF6",
           "showlakes": true,
           "showland": true,
           "subunitcolor": "white"
          },
          "hoverlabel": {
           "align": "left"
          },
          "hovermode": "closest",
          "mapbox": {
           "style": "light"
          },
          "paper_bgcolor": "white",
          "plot_bgcolor": "#E5ECF6",
          "polar": {
           "angularaxis": {
            "gridcolor": "white",
            "linecolor": "white",
            "ticks": ""
           },
           "bgcolor": "#E5ECF6",
           "radialaxis": {
            "gridcolor": "white",
            "linecolor": "white",
            "ticks": ""
           }
          },
          "scene": {
           "xaxis": {
            "backgroundcolor": "#E5ECF6",
            "gridcolor": "white",
            "gridwidth": 2,
            "linecolor": "white",
            "showbackground": true,
            "ticks": "",
            "zerolinecolor": "white"
           },
           "yaxis": {
            "backgroundcolor": "#E5ECF6",
            "gridcolor": "white",
            "gridwidth": 2,
            "linecolor": "white",
            "showbackground": true,
            "ticks": "",
            "zerolinecolor": "white"
           },
           "zaxis": {
            "backgroundcolor": "#E5ECF6",
            "gridcolor": "white",
            "gridwidth": 2,
            "linecolor": "white",
            "showbackground": true,
            "ticks": "",
            "zerolinecolor": "white"
           }
          },
          "shapedefaults": {
           "line": {
            "color": "#2a3f5f"
           }
          },
          "ternary": {
           "aaxis": {
            "gridcolor": "white",
            "linecolor": "white",
            "ticks": ""
           },
           "baxis": {
            "gridcolor": "white",
            "linecolor": "white",
            "ticks": ""
           },
           "bgcolor": "#E5ECF6",
           "caxis": {
            "gridcolor": "white",
            "linecolor": "white",
            "ticks": ""
           }
          },
          "title": {
           "x": 0.05
          },
          "xaxis": {
           "automargin": true,
           "gridcolor": "white",
           "linecolor": "white",
           "ticks": "",
           "title": {
            "standoff": 15
           },
           "zerolinecolor": "white",
           "zerolinewidth": 2
          },
          "yaxis": {
           "automargin": true,
           "gridcolor": "white",
           "linecolor": "white",
           "ticks": "",
           "title": {
            "standoff": 15
           },
           "zerolinecolor": "white",
           "zerolinewidth": 2
          }
         }
        },
        "title": {
         "text": "The tweets behavior"
        }
       }
      }
     },
     "metadata": {},
     "output_type": "display_data"
    }
   ],
   "source": [
    "fig = px.pie(tweets_df, values='Predictions', names='Tweets', title='The tweets behavior')\n",
    "fig.show()"
   ]
  },
  {
   "cell_type": "code",
   "execution_count": 22,
   "id": "272ba4a2",
   "metadata": {},
   "outputs": [
    {
     "data": {
      "application/vnd.plotly.v1+json": {
       "config": {
        "plotlyServerURL": "https://plot.ly"
       },
       "data": [
        {
         "hovertemplate": "<b>%{hovertext}</b><br><br>Predictions=Non-Depression<br>day=%{x}<br>hour=%{y}<br>Predictions_Percentange=%{marker.size}<extra></extra>",
         "hovertext": [
          "Let the game begin https://t.co/whtlA9hwPd",
          "Souls games players: https://t.co/2uR07dTGJH",
          "@TeosGame Doom 2",
          "@LeZeldaa God of war 1 https://t.co/DnhNmX9Vaw",
          "https://t.co/TXrLD51hNC",
          "@Dessppreso @Nojoudishealing https://t.co/2qSNRg17DZ",
          "@HIMIX_1 اقول لك اطلع انا برا يله بس ساعه",
          "@nurrrttt @SKJaay Alriiight He can join our mid night talks",
          "@Gabimaruuuuu ونعم",
          "@Dessppreso Buy him",
          "زنقة الكلاب مود اكتفيتد",
          "@SKJaay Touch grass",
          "@Gabimaruuuuu I ship",
          "@EnceladusStar Oh hell yea i’ve listened to every song on the train",
          "@7lebMoz خل عرادي يغششك مره ثانيه",
          "@noiamnotshe Oof why",
          "@7lebMoz Oh fuck off",
          "@7lebMoz Oh like it’s the fucking first time fuck off",
          "@SKJaay Ian… get it? Cause you’re a game? People play YOU?? G- get it?",
          "@SowrAII @Dessppreso الوه",
          "@7lebMoz كيوت حتى كتب لك اسم ولد ايلون ماسك Æ",
          "@7lebMoz BURN DOWN THE WITCH",
          "@nurrrttt Oh wow",
          "@LeZeldaa https://t.co/wmaiydkfhl",
          "@Mohxox اخ اخ اخ اخ",
          "@HabisMazin Is he going to prom?",
          "@7lebMoz https://t.co/BSfKR9EmF0",
          "@7lebMoz piece* hehehehehehehehhe",
          "@Ba6a6asa No",
          "@nurrrttt Thank you babe",
          "@AnasHuman0 @zRaashed Dang bro that’s deep",
          "@noiamnotshe https://t.co/UD5WZA6tl4",
          "لا لا مهما تذمرت الدنيا حلوه بعد الاخبار الجميله الي سمعتها.",
          "يا زين الشتاء، صح انك بتقعد بكلاسك تفكر وش سويت غلط عشان توصل لذي الحاله بس على الاقل مبتسم وانت في الطريق.",
          "@HIMIX_1 ❤️❤️",
          "@HIMIX_1 You’re old as shit congratulations",
          "@SKJaay Ofc broda z3tr or cheese?",
          "@SKJaay Got me some tea and some pastries. Life is beautiful.",
          "@HabisMazin https://t.co/6pdIPSgyTY",
          "Good morning. Today just seems a little brighter. 🏃‍♂️❤️",
          "@qaddnv وزينووووووه",
          "@7lebMoz https://t.co/5XMAVZNHgE",
          "@nurrrttt Gimme your ig we goin there",
          "@nurrrttt @Dessppreso NAH HE SPOKE ARABIC ITS THE END",
          "@elonmusk What up",
          "@7lebMoz i agree",
          "@lIEvvaa شكلك حملتي مادة",
          "@naosayshi Np np",
          "@naosayshi It’s your page. you could talk about how you saw a cloud shaped like a rat and it’d still be ok say whatever you want haha",
          "@naosayshi Oh social expectations, nope you don’t need to do it but if your employees expect it just listen to them and throw little comments to make them feel like you’re there,  it doesn’t need to be a full on conversation. That’s what i do anyways",
          "@naosayshi Does your profession require you to be social ans communicating? Cause some jobs don’t and i’d understand your concern if you’re in law or medicine those require you to not shut the fuck up",
          "@naosayshi What is your profession?",
          "@naosayshi Oh come on",
          "@noiamnotshe Aight",
          "@Supresa_Sa 😂😂😂😂",
          "Yall confused as fuck in these troubled times, remember your morals, traditions and religion again and then come back.",
          "@naosayshi Ah may Allah be with you then 😭😭",
          "@naosayshi Been there, i choose to not socialize.",
          "@Gabimaruuuuu Yes",
          "@nurrrttt Yum",
          "@7lebMoz Dude what’s the pic on the background",
          "@7lebMoz You won’t last a day",
          "@Ponyo_TTV You’re a freak i can smell it",
          "@Ponyo_TTV I DUNNO YOU CAN BE A PSYCHOPATH I HAVE A SENSOR FOR THAT",
          "@Ponyo_TTV I mean I wouldn’t be surprised tbh but welcome back! 😭",
          "@Ponyo_TTV Discharged? Did you commit crime?",
          "خل نخلي هذا اول تويته https://t.co/jZgTnMSYwP",
          "@7lebMoz Anatomy",
          "@doppyisfree شكلك ما تلعبين فل تيم",
          "@doppyisfree هارد ستك بلات دي بي اس بالخدمه",
          "@doppyisfree وصلت الايلو هيل والظاهر بترك اللعبه"
         ],
         "legendgroup": "Non-Depression",
         "marker": {
          "color": "#636efa",
          "size": [
           0.054381344467401505,
           0.007390802726149559,
           0.039390984922647476,
           0.013990582898259163,
           0.2797541320323944,
           0.2797541320323944,
           0.08367010951042175,
           0.15776318311691284,
           0.2606973946094513,
           0.15079021453857422,
           0.2606973946094513,
           0.05212333798408508,
           0.08681586384773254,
           0.0035861199721693993,
           0.2606973946094513,
           0.0356045737862587,
           0.0839025005698204,
           0.051146604120731354,
           0.004487412981688976,
           0.2606973946094513,
           0.2606973946094513,
           0.04180717095732689,
           0.010329214856028557,
           0.2797541320323944,
           0.2606973946094513,
           0.11207006126642227,
           0.2797541320323944,
           0.41517171263694763,
           0.2606973946094513,
           0.08770336210727692,
           0.004700209945440292,
           0.2797541320323944,
           0.2606973946094513,
           0.2606973946094513,
           0.08367010951042175,
           0.02629256807267666,
           0.007612555753439665,
           0.09464627504348755,
           0.2797541320323944,
           0.3976430296897888,
           0.2606973946094513,
           0.2797541320323944,
           0.0026424836833029985,
           0.03961816057562828,
           0.2606973946094513,
           0.1705958992242813,
           0.2606973946094513,
           0.04161571338772774,
           0.006316684186458588,
           0.009566240943968296,
           0.07256944477558136,
           0.24510619044303894,
           0.06887390464544296,
           0.02759627252817154,
           0.19647416472434998,
           0.0013830766547471285,
           0.024176929146051407,
           0.14460144937038422,
           0.06335078179836273,
           0.054839249700307846,
           0.005675919353961945,
           0.2796243131160736,
           0.04246100038290024,
           0.15917526185512543,
           0.008124001324176788,
           0.1569088250398636,
           0.2797541916370392,
           0.03834407776594162,
           0.2606973946094513,
           0.2606973946094513,
           0.2606973946094513
          ],
          "sizemode": "area",
          "sizeref": 0.00025152895185682507,
          "symbol": "circle"
         },
         "mode": "markers",
         "name": "Non-Depression",
         "orientation": "v",
         "showlegend": true,
         "type": "scatter",
         "x": [
          5,
          5,
          5,
          5,
          4,
          4,
          4,
          3,
          2,
          2,
          1,
          30,
          29,
          29,
          29,
          29,
          29,
          29,
          28,
          27,
          27,
          27,
          27,
          26,
          26,
          26,
          25,
          25,
          24,
          24,
          23,
          22,
          21,
          21,
          20,
          20,
          20,
          20,
          20,
          20,
          18,
          18,
          18,
          18,
          16,
          16,
          16,
          10,
          10,
          10,
          10,
          10,
          9,
          8,
          8,
          8,
          7,
          7,
          5,
          4,
          2,
          1,
          31,
          31,
          31,
          31,
          30,
          30,
          29,
          29,
          29
         ],
         "xaxis": "x",
         "y": [
          18,
          15,
          15,
          12,
          15,
          14,
          6,
          10,
          13,
          10,
          20,
          22,
          19,
          18,
          16,
          15,
          11,
          10,
          2,
          21,
          10,
          10,
          9,
          15,
          14,
          2,
          23,
          23,
          23,
          22,
          23,
          21,
          8,
          4,
          6,
          6,
          6,
          4,
          4,
          4,
          22,
          18,
          17,
          17,
          19,
          19,
          13,
          6,
          6,
          6,
          5,
          5,
          9,
          13,
          4,
          1,
          6,
          6,
          16,
          0,
          22,
          17,
          10,
          10,
          9,
          9,
          11,
          2,
          13,
          1,
          1
         ],
         "yaxis": "y"
        },
        {
         "hovertemplate": "<b>%{hovertext}</b><br><br>Predictions=Depression<br>day=%{x}<br>hour=%{y}<br>Predictions_Percentange=%{marker.size}<extra></extra>",
         "hovertext": [
          "@HabisMazin The journey begins NOW? I THOUGHT I REACHED THE END IF I SAY THAT",
          "@naosayshi That’s of course if you care, if you just want your shift to be done and don’t give the slightest care about the employees you work with then yea just do your job don’t talk",
          "@EnceladusStar I HEARD THAT YOU’RE HAPPY WITHOUT ME AND I HOPE ITS TRUEEEEE",
          "@naosayshi Thank youu i hope that for you too",
          "@Ponyo_TTV You see i told you, you’re a freak"
         ],
         "legendgroup": "Depression",
         "marker": {
          "color": "#EF553B",
          "size": [
           0.9055042266845703,
           0.688748836517334,
           0.5408270359039307,
           0.5671734809875488,
           0.5633403062820435
          ],
          "sizemode": "area",
          "sizeref": 0.00025152895185682507,
          "symbol": "circle"
         },
         "mode": "markers",
         "name": "Depression",
         "orientation": "v",
         "showlegend": true,
         "type": "scatter",
         "x": [
          5,
          10,
          8,
          8,
          5
         ],
         "xaxis": "x",
         "y": [
          3,
          6,
          14,
          5,
          18
         ],
         "yaxis": "y"
        }
       ],
       "layout": {
        "legend": {
         "itemsizing": "constant",
         "title": {
          "text": "Predictions"
         },
         "tracegroupgap": 0
        },
        "margin": {
         "t": 60
        },
        "template": {
         "data": {
          "bar": [
           {
            "error_x": {
             "color": "#2a3f5f"
            },
            "error_y": {
             "color": "#2a3f5f"
            },
            "marker": {
             "line": {
              "color": "#E5ECF6",
              "width": 0.5
             },
             "pattern": {
              "fillmode": "overlay",
              "size": 10,
              "solidity": 0.2
             }
            },
            "type": "bar"
           }
          ],
          "barpolar": [
           {
            "marker": {
             "line": {
              "color": "#E5ECF6",
              "width": 0.5
             },
             "pattern": {
              "fillmode": "overlay",
              "size": 10,
              "solidity": 0.2
             }
            },
            "type": "barpolar"
           }
          ],
          "carpet": [
           {
            "aaxis": {
             "endlinecolor": "#2a3f5f",
             "gridcolor": "white",
             "linecolor": "white",
             "minorgridcolor": "white",
             "startlinecolor": "#2a3f5f"
            },
            "baxis": {
             "endlinecolor": "#2a3f5f",
             "gridcolor": "white",
             "linecolor": "white",
             "minorgridcolor": "white",
             "startlinecolor": "#2a3f5f"
            },
            "type": "carpet"
           }
          ],
          "choropleth": [
           {
            "colorbar": {
             "outlinewidth": 0,
             "ticks": ""
            },
            "type": "choropleth"
           }
          ],
          "contour": [
           {
            "colorbar": {
             "outlinewidth": 0,
             "ticks": ""
            },
            "colorscale": [
             [
              0,
              "#0d0887"
             ],
             [
              0.1111111111111111,
              "#46039f"
             ],
             [
              0.2222222222222222,
              "#7201a8"
             ],
             [
              0.3333333333333333,
              "#9c179e"
             ],
             [
              0.4444444444444444,
              "#bd3786"
             ],
             [
              0.5555555555555556,
              "#d8576b"
             ],
             [
              0.6666666666666666,
              "#ed7953"
             ],
             [
              0.7777777777777778,
              "#fb9f3a"
             ],
             [
              0.8888888888888888,
              "#fdca26"
             ],
             [
              1,
              "#f0f921"
             ]
            ],
            "type": "contour"
           }
          ],
          "contourcarpet": [
           {
            "colorbar": {
             "outlinewidth": 0,
             "ticks": ""
            },
            "type": "contourcarpet"
           }
          ],
          "heatmap": [
           {
            "colorbar": {
             "outlinewidth": 0,
             "ticks": ""
            },
            "colorscale": [
             [
              0,
              "#0d0887"
             ],
             [
              0.1111111111111111,
              "#46039f"
             ],
             [
              0.2222222222222222,
              "#7201a8"
             ],
             [
              0.3333333333333333,
              "#9c179e"
             ],
             [
              0.4444444444444444,
              "#bd3786"
             ],
             [
              0.5555555555555556,
              "#d8576b"
             ],
             [
              0.6666666666666666,
              "#ed7953"
             ],
             [
              0.7777777777777778,
              "#fb9f3a"
             ],
             [
              0.8888888888888888,
              "#fdca26"
             ],
             [
              1,
              "#f0f921"
             ]
            ],
            "type": "heatmap"
           }
          ],
          "heatmapgl": [
           {
            "colorbar": {
             "outlinewidth": 0,
             "ticks": ""
            },
            "colorscale": [
             [
              0,
              "#0d0887"
             ],
             [
              0.1111111111111111,
              "#46039f"
             ],
             [
              0.2222222222222222,
              "#7201a8"
             ],
             [
              0.3333333333333333,
              "#9c179e"
             ],
             [
              0.4444444444444444,
              "#bd3786"
             ],
             [
              0.5555555555555556,
              "#d8576b"
             ],
             [
              0.6666666666666666,
              "#ed7953"
             ],
             [
              0.7777777777777778,
              "#fb9f3a"
             ],
             [
              0.8888888888888888,
              "#fdca26"
             ],
             [
              1,
              "#f0f921"
             ]
            ],
            "type": "heatmapgl"
           }
          ],
          "histogram": [
           {
            "marker": {
             "pattern": {
              "fillmode": "overlay",
              "size": 10,
              "solidity": 0.2
             }
            },
            "type": "histogram"
           }
          ],
          "histogram2d": [
           {
            "colorbar": {
             "outlinewidth": 0,
             "ticks": ""
            },
            "colorscale": [
             [
              0,
              "#0d0887"
             ],
             [
              0.1111111111111111,
              "#46039f"
             ],
             [
              0.2222222222222222,
              "#7201a8"
             ],
             [
              0.3333333333333333,
              "#9c179e"
             ],
             [
              0.4444444444444444,
              "#bd3786"
             ],
             [
              0.5555555555555556,
              "#d8576b"
             ],
             [
              0.6666666666666666,
              "#ed7953"
             ],
             [
              0.7777777777777778,
              "#fb9f3a"
             ],
             [
              0.8888888888888888,
              "#fdca26"
             ],
             [
              1,
              "#f0f921"
             ]
            ],
            "type": "histogram2d"
           }
          ],
          "histogram2dcontour": [
           {
            "colorbar": {
             "outlinewidth": 0,
             "ticks": ""
            },
            "colorscale": [
             [
              0,
              "#0d0887"
             ],
             [
              0.1111111111111111,
              "#46039f"
             ],
             [
              0.2222222222222222,
              "#7201a8"
             ],
             [
              0.3333333333333333,
              "#9c179e"
             ],
             [
              0.4444444444444444,
              "#bd3786"
             ],
             [
              0.5555555555555556,
              "#d8576b"
             ],
             [
              0.6666666666666666,
              "#ed7953"
             ],
             [
              0.7777777777777778,
              "#fb9f3a"
             ],
             [
              0.8888888888888888,
              "#fdca26"
             ],
             [
              1,
              "#f0f921"
             ]
            ],
            "type": "histogram2dcontour"
           }
          ],
          "mesh3d": [
           {
            "colorbar": {
             "outlinewidth": 0,
             "ticks": ""
            },
            "type": "mesh3d"
           }
          ],
          "parcoords": [
           {
            "line": {
             "colorbar": {
              "outlinewidth": 0,
              "ticks": ""
             }
            },
            "type": "parcoords"
           }
          ],
          "pie": [
           {
            "automargin": true,
            "type": "pie"
           }
          ],
          "scatter": [
           {
            "fillpattern": {
             "fillmode": "overlay",
             "size": 10,
             "solidity": 0.2
            },
            "type": "scatter"
           }
          ],
          "scatter3d": [
           {
            "line": {
             "colorbar": {
              "outlinewidth": 0,
              "ticks": ""
             }
            },
            "marker": {
             "colorbar": {
              "outlinewidth": 0,
              "ticks": ""
             }
            },
            "type": "scatter3d"
           }
          ],
          "scattercarpet": [
           {
            "marker": {
             "colorbar": {
              "outlinewidth": 0,
              "ticks": ""
             }
            },
            "type": "scattercarpet"
           }
          ],
          "scattergeo": [
           {
            "marker": {
             "colorbar": {
              "outlinewidth": 0,
              "ticks": ""
             }
            },
            "type": "scattergeo"
           }
          ],
          "scattergl": [
           {
            "marker": {
             "colorbar": {
              "outlinewidth": 0,
              "ticks": ""
             }
            },
            "type": "scattergl"
           }
          ],
          "scattermapbox": [
           {
            "marker": {
             "colorbar": {
              "outlinewidth": 0,
              "ticks": ""
             }
            },
            "type": "scattermapbox"
           }
          ],
          "scatterpolar": [
           {
            "marker": {
             "colorbar": {
              "outlinewidth": 0,
              "ticks": ""
             }
            },
            "type": "scatterpolar"
           }
          ],
          "scatterpolargl": [
           {
            "marker": {
             "colorbar": {
              "outlinewidth": 0,
              "ticks": ""
             }
            },
            "type": "scatterpolargl"
           }
          ],
          "scatterternary": [
           {
            "marker": {
             "colorbar": {
              "outlinewidth": 0,
              "ticks": ""
             }
            },
            "type": "scatterternary"
           }
          ],
          "surface": [
           {
            "colorbar": {
             "outlinewidth": 0,
             "ticks": ""
            },
            "colorscale": [
             [
              0,
              "#0d0887"
             ],
             [
              0.1111111111111111,
              "#46039f"
             ],
             [
              0.2222222222222222,
              "#7201a8"
             ],
             [
              0.3333333333333333,
              "#9c179e"
             ],
             [
              0.4444444444444444,
              "#bd3786"
             ],
             [
              0.5555555555555556,
              "#d8576b"
             ],
             [
              0.6666666666666666,
              "#ed7953"
             ],
             [
              0.7777777777777778,
              "#fb9f3a"
             ],
             [
              0.8888888888888888,
              "#fdca26"
             ],
             [
              1,
              "#f0f921"
             ]
            ],
            "type": "surface"
           }
          ],
          "table": [
           {
            "cells": {
             "fill": {
              "color": "#EBF0F8"
             },
             "line": {
              "color": "white"
             }
            },
            "header": {
             "fill": {
              "color": "#C8D4E3"
             },
             "line": {
              "color": "white"
             }
            },
            "type": "table"
           }
          ]
         },
         "layout": {
          "annotationdefaults": {
           "arrowcolor": "#2a3f5f",
           "arrowhead": 0,
           "arrowwidth": 1
          },
          "autotypenumbers": "strict",
          "coloraxis": {
           "colorbar": {
            "outlinewidth": 0,
            "ticks": ""
           }
          },
          "colorscale": {
           "diverging": [
            [
             0,
             "#8e0152"
            ],
            [
             0.1,
             "#c51b7d"
            ],
            [
             0.2,
             "#de77ae"
            ],
            [
             0.3,
             "#f1b6da"
            ],
            [
             0.4,
             "#fde0ef"
            ],
            [
             0.5,
             "#f7f7f7"
            ],
            [
             0.6,
             "#e6f5d0"
            ],
            [
             0.7,
             "#b8e186"
            ],
            [
             0.8,
             "#7fbc41"
            ],
            [
             0.9,
             "#4d9221"
            ],
            [
             1,
             "#276419"
            ]
           ],
           "sequential": [
            [
             0,
             "#0d0887"
            ],
            [
             0.1111111111111111,
             "#46039f"
            ],
            [
             0.2222222222222222,
             "#7201a8"
            ],
            [
             0.3333333333333333,
             "#9c179e"
            ],
            [
             0.4444444444444444,
             "#bd3786"
            ],
            [
             0.5555555555555556,
             "#d8576b"
            ],
            [
             0.6666666666666666,
             "#ed7953"
            ],
            [
             0.7777777777777778,
             "#fb9f3a"
            ],
            [
             0.8888888888888888,
             "#fdca26"
            ],
            [
             1,
             "#f0f921"
            ]
           ],
           "sequentialminus": [
            [
             0,
             "#0d0887"
            ],
            [
             0.1111111111111111,
             "#46039f"
            ],
            [
             0.2222222222222222,
             "#7201a8"
            ],
            [
             0.3333333333333333,
             "#9c179e"
            ],
            [
             0.4444444444444444,
             "#bd3786"
            ],
            [
             0.5555555555555556,
             "#d8576b"
            ],
            [
             0.6666666666666666,
             "#ed7953"
            ],
            [
             0.7777777777777778,
             "#fb9f3a"
            ],
            [
             0.8888888888888888,
             "#fdca26"
            ],
            [
             1,
             "#f0f921"
            ]
           ]
          },
          "colorway": [
           "#636efa",
           "#EF553B",
           "#00cc96",
           "#ab63fa",
           "#FFA15A",
           "#19d3f3",
           "#FF6692",
           "#B6E880",
           "#FF97FF",
           "#FECB52"
          ],
          "font": {
           "color": "#2a3f5f"
          },
          "geo": {
           "bgcolor": "white",
           "lakecolor": "white",
           "landcolor": "#E5ECF6",
           "showlakes": true,
           "showland": true,
           "subunitcolor": "white"
          },
          "hoverlabel": {
           "align": "left"
          },
          "hovermode": "closest",
          "mapbox": {
           "style": "light"
          },
          "paper_bgcolor": "white",
          "plot_bgcolor": "#E5ECF6",
          "polar": {
           "angularaxis": {
            "gridcolor": "white",
            "linecolor": "white",
            "ticks": ""
           },
           "bgcolor": "#E5ECF6",
           "radialaxis": {
            "gridcolor": "white",
            "linecolor": "white",
            "ticks": ""
           }
          },
          "scene": {
           "xaxis": {
            "backgroundcolor": "#E5ECF6",
            "gridcolor": "white",
            "gridwidth": 2,
            "linecolor": "white",
            "showbackground": true,
            "ticks": "",
            "zerolinecolor": "white"
           },
           "yaxis": {
            "backgroundcolor": "#E5ECF6",
            "gridcolor": "white",
            "gridwidth": 2,
            "linecolor": "white",
            "showbackground": true,
            "ticks": "",
            "zerolinecolor": "white"
           },
           "zaxis": {
            "backgroundcolor": "#E5ECF6",
            "gridcolor": "white",
            "gridwidth": 2,
            "linecolor": "white",
            "showbackground": true,
            "ticks": "",
            "zerolinecolor": "white"
           }
          },
          "shapedefaults": {
           "line": {
            "color": "#2a3f5f"
           }
          },
          "ternary": {
           "aaxis": {
            "gridcolor": "white",
            "linecolor": "white",
            "ticks": ""
           },
           "baxis": {
            "gridcolor": "white",
            "linecolor": "white",
            "ticks": ""
           },
           "bgcolor": "#E5ECF6",
           "caxis": {
            "gridcolor": "white",
            "linecolor": "white",
            "ticks": ""
           }
          },
          "title": {
           "x": 0.05
          },
          "xaxis": {
           "automargin": true,
           "gridcolor": "white",
           "linecolor": "white",
           "ticks": "",
           "title": {
            "standoff": 15
           },
           "zerolinecolor": "white",
           "zerolinewidth": 2
          },
          "yaxis": {
           "automargin": true,
           "gridcolor": "white",
           "linecolor": "white",
           "ticks": "",
           "title": {
            "standoff": 15
           },
           "zerolinecolor": "white",
           "zerolinewidth": 2
          }
         }
        },
        "xaxis": {
         "anchor": "y",
         "domain": [
          0,
          1
         ],
         "title": {
          "text": "day"
         },
         "type": "log"
        },
        "yaxis": {
         "anchor": "x",
         "domain": [
          0,
          1
         ],
         "title": {
          "text": "hour"
         }
        }
       }
      }
     },
     "metadata": {},
     "output_type": "display_data"
    }
   ],
   "source": [
    "fig = px.scatter(tweets_df , x=\"day\", y=\"hour\",\n",
    "       size=\"Predictions_Percentange\", color=\"Predictions\",\n",
    "                 hover_name=\"Tweets\", log_x=True, size_max=60)\n",
    "fig.show()"
   ]
  },
  {
   "cell_type": "markdown",
   "id": "1a75a8a2",
   "metadata": {},
   "source": [
    "## it make sense to zoom in and focus on the midnight .. since almost all of the tweets after midnight have that dark energy.\n",
    "\n",
    "## Let's not wast time and do our plots and answer our questions!"
   ]
  },
  {
   "cell_type": "markdown",
   "id": "36015bd9",
   "metadata": {},
   "source": [
    "## First, We Took  a Copy of The Hour Column Which is The Column We're Intrested in .\n",
    "\n",
    "## in the same time we don't want our original data to get any change."
   ]
  },
  {
   "cell_type": "code",
   "execution_count": 23,
   "id": "dc68832e",
   "metadata": {},
   "outputs": [],
   "source": [
    "#midnight_df = tweets_df[(tweets_df['hour'] <= 5 ) & (tweets_df['hour'] >= 0) ]\n"
   ]
  },
  {
   "cell_type": "markdown",
   "id": "5bfa8af6",
   "metadata": {},
   "source": [
    "## We used the same plot to answer the question"
   ]
  },
  {
   "cell_type": "code",
   "execution_count": 24,
   "id": "d33c673a",
   "metadata": {},
   "outputs": [
    {
     "data": {
      "application/vnd.plotly.v1+json": {
       "config": {
        "plotlyServerURL": "https://plot.ly"
       },
       "data": [
        {
         "hovertemplate": "<b>%{hovertext}</b><br><br>Predictions=Depression<br>day=%{x}<br>hour=%{y}<br>Predictions_Percentange=%{marker.size}<extra></extra>",
         "hovertext": [
          "@HabisMazin The journey begins NOW? I THOUGHT I REACHED THE END IF I SAY THAT",
          "@naosayshi Thank youu i hope that for you too"
         ],
         "legendgroup": "Depression",
         "marker": {
          "color": "#636efa",
          "size": [
           0.9055042266845703,
           0.5671734809875488
          ],
          "sizemode": "area",
          "sizeref": 0.00025152895185682507,
          "symbol": "circle"
         },
         "mode": "markers",
         "name": "Depression",
         "orientation": "v",
         "showlegend": true,
         "type": "scatter",
         "x": [
          5,
          8
         ],
         "xaxis": "x",
         "y": [
          3,
          5
         ],
         "yaxis": "y"
        },
        {
         "hovertemplate": "<b>%{hovertext}</b><br><br>Predictions=Non-Depression<br>day=%{x}<br>hour=%{y}<br>Predictions_Percentange=%{marker.size}<extra></extra>",
         "hovertext": [
          "@SKJaay Ian… get it? Cause you’re a game? People play YOU?? G- get it?",
          "@HabisMazin Is he going to prom?",
          "يا زين الشتاء، صح انك بتقعد بكلاسك تفكر وش سويت غلط عشان توصل لذي الحاله بس على الاقل مبتسم وانت في الطريق.",
          "@SKJaay Got me some tea and some pastries. Life is beautiful.",
          "@HabisMazin https://t.co/6pdIPSgyTY",
          "Good morning. Today just seems a little brighter. 🏃‍♂️❤️",
          "@naosayshi Does your profession require you to be social ans communicating? Cause some jobs don’t and i’d understand your concern if you’re in law or medicine those require you to not shut the fuck up",
          "@naosayshi What is your profession?",
          "@Supresa_Sa 😂😂😂😂",
          "Yall confused as fuck in these troubled times, remember your morals, traditions and religion again and then come back.",
          "@nurrrttt Yum",
          "@7lebMoz Anatomy",
          "@doppyisfree هارد ستك بلات دي بي اس بالخدمه",
          "@doppyisfree وصلت الايلو هيل والظاهر بترك اللعبه"
         ],
         "legendgroup": "Non-Depression",
         "marker": {
          "color": "#EF553B",
          "size": [
           0.004487412981688976,
           0.11207006126642227,
           0.2606973946094513,
           0.09464627504348755,
           0.2797541320323944,
           0.3976430296897888,
           0.07256944477558136,
           0.24510619044303894,
           0.19647416472434998,
           0.0013830766547471285,
           0.054839249700307846,
           0.03834407776594162,
           0.2606973946094513,
           0.2606973946094513
          ],
          "sizemode": "area",
          "sizeref": 0.00025152895185682507,
          "symbol": "circle"
         },
         "mode": "markers",
         "name": "Non-Depression",
         "orientation": "v",
         "showlegend": true,
         "type": "scatter",
         "x": [
          28,
          26,
          21,
          20,
          20,
          20,
          10,
          10,
          8,
          8,
          4,
          30,
          29,
          29
         ],
         "xaxis": "x",
         "y": [
          2,
          2,
          4,
          4,
          4,
          4,
          5,
          5,
          4,
          1,
          0,
          2,
          1,
          1
         ],
         "yaxis": "y"
        }
       ],
       "layout": {
        "legend": {
         "itemsizing": "constant",
         "title": {
          "text": "Predictions"
         },
         "tracegroupgap": 0
        },
        "margin": {
         "t": 60
        },
        "template": {
         "data": {
          "bar": [
           {
            "error_x": {
             "color": "#2a3f5f"
            },
            "error_y": {
             "color": "#2a3f5f"
            },
            "marker": {
             "line": {
              "color": "#E5ECF6",
              "width": 0.5
             },
             "pattern": {
              "fillmode": "overlay",
              "size": 10,
              "solidity": 0.2
             }
            },
            "type": "bar"
           }
          ],
          "barpolar": [
           {
            "marker": {
             "line": {
              "color": "#E5ECF6",
              "width": 0.5
             },
             "pattern": {
              "fillmode": "overlay",
              "size": 10,
              "solidity": 0.2
             }
            },
            "type": "barpolar"
           }
          ],
          "carpet": [
           {
            "aaxis": {
             "endlinecolor": "#2a3f5f",
             "gridcolor": "white",
             "linecolor": "white",
             "minorgridcolor": "white",
             "startlinecolor": "#2a3f5f"
            },
            "baxis": {
             "endlinecolor": "#2a3f5f",
             "gridcolor": "white",
             "linecolor": "white",
             "minorgridcolor": "white",
             "startlinecolor": "#2a3f5f"
            },
            "type": "carpet"
           }
          ],
          "choropleth": [
           {
            "colorbar": {
             "outlinewidth": 0,
             "ticks": ""
            },
            "type": "choropleth"
           }
          ],
          "contour": [
           {
            "colorbar": {
             "outlinewidth": 0,
             "ticks": ""
            },
            "colorscale": [
             [
              0,
              "#0d0887"
             ],
             [
              0.1111111111111111,
              "#46039f"
             ],
             [
              0.2222222222222222,
              "#7201a8"
             ],
             [
              0.3333333333333333,
              "#9c179e"
             ],
             [
              0.4444444444444444,
              "#bd3786"
             ],
             [
              0.5555555555555556,
              "#d8576b"
             ],
             [
              0.6666666666666666,
              "#ed7953"
             ],
             [
              0.7777777777777778,
              "#fb9f3a"
             ],
             [
              0.8888888888888888,
              "#fdca26"
             ],
             [
              1,
              "#f0f921"
             ]
            ],
            "type": "contour"
           }
          ],
          "contourcarpet": [
           {
            "colorbar": {
             "outlinewidth": 0,
             "ticks": ""
            },
            "type": "contourcarpet"
           }
          ],
          "heatmap": [
           {
            "colorbar": {
             "outlinewidth": 0,
             "ticks": ""
            },
            "colorscale": [
             [
              0,
              "#0d0887"
             ],
             [
              0.1111111111111111,
              "#46039f"
             ],
             [
              0.2222222222222222,
              "#7201a8"
             ],
             [
              0.3333333333333333,
              "#9c179e"
             ],
             [
              0.4444444444444444,
              "#bd3786"
             ],
             [
              0.5555555555555556,
              "#d8576b"
             ],
             [
              0.6666666666666666,
              "#ed7953"
             ],
             [
              0.7777777777777778,
              "#fb9f3a"
             ],
             [
              0.8888888888888888,
              "#fdca26"
             ],
             [
              1,
              "#f0f921"
             ]
            ],
            "type": "heatmap"
           }
          ],
          "heatmapgl": [
           {
            "colorbar": {
             "outlinewidth": 0,
             "ticks": ""
            },
            "colorscale": [
             [
              0,
              "#0d0887"
             ],
             [
              0.1111111111111111,
              "#46039f"
             ],
             [
              0.2222222222222222,
              "#7201a8"
             ],
             [
              0.3333333333333333,
              "#9c179e"
             ],
             [
              0.4444444444444444,
              "#bd3786"
             ],
             [
              0.5555555555555556,
              "#d8576b"
             ],
             [
              0.6666666666666666,
              "#ed7953"
             ],
             [
              0.7777777777777778,
              "#fb9f3a"
             ],
             [
              0.8888888888888888,
              "#fdca26"
             ],
             [
              1,
              "#f0f921"
             ]
            ],
            "type": "heatmapgl"
           }
          ],
          "histogram": [
           {
            "marker": {
             "pattern": {
              "fillmode": "overlay",
              "size": 10,
              "solidity": 0.2
             }
            },
            "type": "histogram"
           }
          ],
          "histogram2d": [
           {
            "colorbar": {
             "outlinewidth": 0,
             "ticks": ""
            },
            "colorscale": [
             [
              0,
              "#0d0887"
             ],
             [
              0.1111111111111111,
              "#46039f"
             ],
             [
              0.2222222222222222,
              "#7201a8"
             ],
             [
              0.3333333333333333,
              "#9c179e"
             ],
             [
              0.4444444444444444,
              "#bd3786"
             ],
             [
              0.5555555555555556,
              "#d8576b"
             ],
             [
              0.6666666666666666,
              "#ed7953"
             ],
             [
              0.7777777777777778,
              "#fb9f3a"
             ],
             [
              0.8888888888888888,
              "#fdca26"
             ],
             [
              1,
              "#f0f921"
             ]
            ],
            "type": "histogram2d"
           }
          ],
          "histogram2dcontour": [
           {
            "colorbar": {
             "outlinewidth": 0,
             "ticks": ""
            },
            "colorscale": [
             [
              0,
              "#0d0887"
             ],
             [
              0.1111111111111111,
              "#46039f"
             ],
             [
              0.2222222222222222,
              "#7201a8"
             ],
             [
              0.3333333333333333,
              "#9c179e"
             ],
             [
              0.4444444444444444,
              "#bd3786"
             ],
             [
              0.5555555555555556,
              "#d8576b"
             ],
             [
              0.6666666666666666,
              "#ed7953"
             ],
             [
              0.7777777777777778,
              "#fb9f3a"
             ],
             [
              0.8888888888888888,
              "#fdca26"
             ],
             [
              1,
              "#f0f921"
             ]
            ],
            "type": "histogram2dcontour"
           }
          ],
          "mesh3d": [
           {
            "colorbar": {
             "outlinewidth": 0,
             "ticks": ""
            },
            "type": "mesh3d"
           }
          ],
          "parcoords": [
           {
            "line": {
             "colorbar": {
              "outlinewidth": 0,
              "ticks": ""
             }
            },
            "type": "parcoords"
           }
          ],
          "pie": [
           {
            "automargin": true,
            "type": "pie"
           }
          ],
          "scatter": [
           {
            "fillpattern": {
             "fillmode": "overlay",
             "size": 10,
             "solidity": 0.2
            },
            "type": "scatter"
           }
          ],
          "scatter3d": [
           {
            "line": {
             "colorbar": {
              "outlinewidth": 0,
              "ticks": ""
             }
            },
            "marker": {
             "colorbar": {
              "outlinewidth": 0,
              "ticks": ""
             }
            },
            "type": "scatter3d"
           }
          ],
          "scattercarpet": [
           {
            "marker": {
             "colorbar": {
              "outlinewidth": 0,
              "ticks": ""
             }
            },
            "type": "scattercarpet"
           }
          ],
          "scattergeo": [
           {
            "marker": {
             "colorbar": {
              "outlinewidth": 0,
              "ticks": ""
             }
            },
            "type": "scattergeo"
           }
          ],
          "scattergl": [
           {
            "marker": {
             "colorbar": {
              "outlinewidth": 0,
              "ticks": ""
             }
            },
            "type": "scattergl"
           }
          ],
          "scattermapbox": [
           {
            "marker": {
             "colorbar": {
              "outlinewidth": 0,
              "ticks": ""
             }
            },
            "type": "scattermapbox"
           }
          ],
          "scatterpolar": [
           {
            "marker": {
             "colorbar": {
              "outlinewidth": 0,
              "ticks": ""
             }
            },
            "type": "scatterpolar"
           }
          ],
          "scatterpolargl": [
           {
            "marker": {
             "colorbar": {
              "outlinewidth": 0,
              "ticks": ""
             }
            },
            "type": "scatterpolargl"
           }
          ],
          "scatterternary": [
           {
            "marker": {
             "colorbar": {
              "outlinewidth": 0,
              "ticks": ""
             }
            },
            "type": "scatterternary"
           }
          ],
          "surface": [
           {
            "colorbar": {
             "outlinewidth": 0,
             "ticks": ""
            },
            "colorscale": [
             [
              0,
              "#0d0887"
             ],
             [
              0.1111111111111111,
              "#46039f"
             ],
             [
              0.2222222222222222,
              "#7201a8"
             ],
             [
              0.3333333333333333,
              "#9c179e"
             ],
             [
              0.4444444444444444,
              "#bd3786"
             ],
             [
              0.5555555555555556,
              "#d8576b"
             ],
             [
              0.6666666666666666,
              "#ed7953"
             ],
             [
              0.7777777777777778,
              "#fb9f3a"
             ],
             [
              0.8888888888888888,
              "#fdca26"
             ],
             [
              1,
              "#f0f921"
             ]
            ],
            "type": "surface"
           }
          ],
          "table": [
           {
            "cells": {
             "fill": {
              "color": "#EBF0F8"
             },
             "line": {
              "color": "white"
             }
            },
            "header": {
             "fill": {
              "color": "#C8D4E3"
             },
             "line": {
              "color": "white"
             }
            },
            "type": "table"
           }
          ]
         },
         "layout": {
          "annotationdefaults": {
           "arrowcolor": "#2a3f5f",
           "arrowhead": 0,
           "arrowwidth": 1
          },
          "autotypenumbers": "strict",
          "coloraxis": {
           "colorbar": {
            "outlinewidth": 0,
            "ticks": ""
           }
          },
          "colorscale": {
           "diverging": [
            [
             0,
             "#8e0152"
            ],
            [
             0.1,
             "#c51b7d"
            ],
            [
             0.2,
             "#de77ae"
            ],
            [
             0.3,
             "#f1b6da"
            ],
            [
             0.4,
             "#fde0ef"
            ],
            [
             0.5,
             "#f7f7f7"
            ],
            [
             0.6,
             "#e6f5d0"
            ],
            [
             0.7,
             "#b8e186"
            ],
            [
             0.8,
             "#7fbc41"
            ],
            [
             0.9,
             "#4d9221"
            ],
            [
             1,
             "#276419"
            ]
           ],
           "sequential": [
            [
             0,
             "#0d0887"
            ],
            [
             0.1111111111111111,
             "#46039f"
            ],
            [
             0.2222222222222222,
             "#7201a8"
            ],
            [
             0.3333333333333333,
             "#9c179e"
            ],
            [
             0.4444444444444444,
             "#bd3786"
            ],
            [
             0.5555555555555556,
             "#d8576b"
            ],
            [
             0.6666666666666666,
             "#ed7953"
            ],
            [
             0.7777777777777778,
             "#fb9f3a"
            ],
            [
             0.8888888888888888,
             "#fdca26"
            ],
            [
             1,
             "#f0f921"
            ]
           ],
           "sequentialminus": [
            [
             0,
             "#0d0887"
            ],
            [
             0.1111111111111111,
             "#46039f"
            ],
            [
             0.2222222222222222,
             "#7201a8"
            ],
            [
             0.3333333333333333,
             "#9c179e"
            ],
            [
             0.4444444444444444,
             "#bd3786"
            ],
            [
             0.5555555555555556,
             "#d8576b"
            ],
            [
             0.6666666666666666,
             "#ed7953"
            ],
            [
             0.7777777777777778,
             "#fb9f3a"
            ],
            [
             0.8888888888888888,
             "#fdca26"
            ],
            [
             1,
             "#f0f921"
            ]
           ]
          },
          "colorway": [
           "#636efa",
           "#EF553B",
           "#00cc96",
           "#ab63fa",
           "#FFA15A",
           "#19d3f3",
           "#FF6692",
           "#B6E880",
           "#FF97FF",
           "#FECB52"
          ],
          "font": {
           "color": "#2a3f5f"
          },
          "geo": {
           "bgcolor": "white",
           "lakecolor": "white",
           "landcolor": "#E5ECF6",
           "showlakes": true,
           "showland": true,
           "subunitcolor": "white"
          },
          "hoverlabel": {
           "align": "left"
          },
          "hovermode": "closest",
          "mapbox": {
           "style": "light"
          },
          "paper_bgcolor": "white",
          "plot_bgcolor": "#E5ECF6",
          "polar": {
           "angularaxis": {
            "gridcolor": "white",
            "linecolor": "white",
            "ticks": ""
           },
           "bgcolor": "#E5ECF6",
           "radialaxis": {
            "gridcolor": "white",
            "linecolor": "white",
            "ticks": ""
           }
          },
          "scene": {
           "xaxis": {
            "backgroundcolor": "#E5ECF6",
            "gridcolor": "white",
            "gridwidth": 2,
            "linecolor": "white",
            "showbackground": true,
            "ticks": "",
            "zerolinecolor": "white"
           },
           "yaxis": {
            "backgroundcolor": "#E5ECF6",
            "gridcolor": "white",
            "gridwidth": 2,
            "linecolor": "white",
            "showbackground": true,
            "ticks": "",
            "zerolinecolor": "white"
           },
           "zaxis": {
            "backgroundcolor": "#E5ECF6",
            "gridcolor": "white",
            "gridwidth": 2,
            "linecolor": "white",
            "showbackground": true,
            "ticks": "",
            "zerolinecolor": "white"
           }
          },
          "shapedefaults": {
           "line": {
            "color": "#2a3f5f"
           }
          },
          "ternary": {
           "aaxis": {
            "gridcolor": "white",
            "linecolor": "white",
            "ticks": ""
           },
           "baxis": {
            "gridcolor": "white",
            "linecolor": "white",
            "ticks": ""
           },
           "bgcolor": "#E5ECF6",
           "caxis": {
            "gridcolor": "white",
            "linecolor": "white",
            "ticks": ""
           }
          },
          "title": {
           "x": 0.05
          },
          "xaxis": {
           "automargin": true,
           "gridcolor": "white",
           "linecolor": "white",
           "ticks": "",
           "title": {
            "standoff": 15
           },
           "zerolinecolor": "white",
           "zerolinewidth": 2
          },
          "yaxis": {
           "automargin": true,
           "gridcolor": "white",
           "linecolor": "white",
           "ticks": "",
           "title": {
            "standoff": 15
           },
           "zerolinecolor": "white",
           "zerolinewidth": 2
          }
         }
        },
        "xaxis": {
         "anchor": "y",
         "domain": [
          0,
          1
         ],
         "title": {
          "text": "day"
         },
         "type": "log"
        },
        "yaxis": {
         "anchor": "x",
         "domain": [
          0,
          1
         ],
         "title": {
          "text": "hour"
         }
        }
       }
      }
     },
     "metadata": {},
     "output_type": "display_data"
    }
   ],
   "source": [
    "fig = px.scatter(midnight_df , x=\"day\", y=\"hour\",\n",
    "       size=\"Predictions_Percentange\", color=\"Predictions\",\n",
    "                 hover_name=\"Tweets\", log_x=True, size_max=60)\n",
    "fig.show()"
   ]
  },
  {
   "cell_type": "code",
   "execution_count": 25,
   "id": "33ee8e8e",
   "metadata": {},
   "outputs": [],
   "source": [
    "# depressed_df = tweets_df[ tweets_df['Predictions_Percentange'] >= 0.5 ]\n",
    "# #Creating the text variable\n",
    "# wordtext = \" \".join(cat for cat in depressed_df.Tweets)\n",
    "# # Create and generate a word cloud image:\n",
    "# wordcloud = WordCloud().generate(wordtext)\n",
    "\n",
    "# # Display the generated image:\n",
    "# plt.imshow(wordcloud, interpolation='bilinear')\n",
    "# plt.axis(\"off\")\n",
    "# fig5 = plt\n",
    "# fig5.show()"
   ]
  },
  {
   "cell_type": "code",
   "execution_count": 26,
   "id": "96990bff",
   "metadata": {},
   "outputs": [
    {
     "name": "stdout",
     "output_type": "stream",
     "text": [
      "Dash app running on http://127.0.0.1:8051/\n"
     ]
    }
   ],
   "source": [
    "\n",
    "\n",
    "\n",
    "#################### Figure 1 ###########################\n",
    "# Create figure\n",
    "fig = go.Figure()\n",
    "\n",
    "fig.add_trace(\n",
    "    go.Scatter(x=list(tweets_df.Date_Created), y=list(tweets_df.Predictions)))\n",
    "\n",
    "\n",
    "# Set title\n",
    "fig.update_layout(\n",
    "    title_text=\"Depression Tweets by Time\"\n",
    ")\n",
    "\n",
    "# Add range slider\n",
    "fig.update_layout(\n",
    "    xaxis=dict(\n",
    "        rangeselector=dict(\n",
    "            buttons=list([\n",
    "                dict(count=7,\n",
    "                     label=\"1w\",\n",
    "                     step=\"day\",\n",
    "                     stepmode=\"backward\"),\n",
    "                dict(count=14,\n",
    "                     label=\"2w\",\n",
    "                     step=\"day\",\n",
    "                     stepmode=\"backward\"),                \n",
    "                dict(count=1,\n",
    "                     label=\"1m\",\n",
    "                     step=\"month\",\n",
    "                     stepmode=\"backward\"),\n",
    "                dict(count=3,\n",
    "                     label=\"3m\",\n",
    "                     step=\"month\",\n",
    "                     stepmode=\"backward\"),                \n",
    "                dict(count=6,\n",
    "                     label=\"6m\",\n",
    "                     step=\"month\",\n",
    "                     stepmode=\"backward\"),\n",
    "                dict(count=1,\n",
    "                     label=\"1y\",\n",
    "                     step=\"year\",\n",
    "                     stepmode=\"backward\"),\n",
    "                dict(step=\"all\")\n",
    "            ])\n",
    "        ),\n",
    "        rangeslider=dict(\n",
    "            visible=True\n",
    "        ),\n",
    "        type=\"date\"\n",
    "    )\n",
    ")\n",
    "\n",
    "#################### Figure 2 ###########################\n",
    "\n",
    "\n",
    "fig2 = px.bar(tweets_df, x=\"Predictions\", color='month', title=\"Depression count\")\n",
    "\n",
    "\n",
    "#################### Figure 3 ###########################\n",
    "\n",
    "fig3 = go.Figure()\n",
    "\n",
    "fig3 = px.scatter(tweets_df , x=\"day\", y=\"hour\",\n",
    "       size=\"Predictions_Percentange\", color=\"Predictions\",\n",
    "                 hover_name=\"Tweets\", log_x=True, size_max=60)\n",
    "\n",
    "\n",
    "#################### Figure 4 ###########################\n",
    "\n",
    "fig4 = px.pie(tweets_df, values='Number_of_Likes', names='Predictions', title='The tweets behavior')\n",
    "\n",
    "###################### End of Figures ##################\n",
    "\n",
    "app = JupyterDash(__name__)\n",
    "app.layout = html.Div([\n",
    "    dcc.Graph(figure=fig2),\n",
    "    dcc.Graph(figure=fig),\n",
    "    dcc.Graph(figure=fig3),\n",
    "    dcc.Graph(figure=fig4)\n",
    "])\n",
    "\n",
    "if __name__ == '__main__':\n",
    "    app.run_server(debug=True,port=8051)"
   ]
  },
  {
   "cell_type": "code",
   "execution_count": null,
   "id": "4b063c26",
   "metadata": {},
   "outputs": [],
   "source": []
  }
 ],
 "metadata": {
  "kernelspec": {
   "display_name": "Python 3.9.0 64-bit",
   "language": "python",
   "name": "python3"
  },
  "language_info": {
   "codemirror_mode": {
    "name": "ipython",
    "version": 3
   },
   "file_extension": ".py",
   "mimetype": "text/x-python",
   "name": "python",
   "nbconvert_exporter": "python",
   "pygments_lexer": "ipython3",
   "version": "3.9.0"
  },
  "vscode": {
   "interpreter": {
    "hash": "949d6ff4871dbeb5a7ca38875d470f3c909aa9872336c2e2afa575d18130e986"
   }
  }
 },
 "nbformat": 4,
 "nbformat_minor": 5
}
